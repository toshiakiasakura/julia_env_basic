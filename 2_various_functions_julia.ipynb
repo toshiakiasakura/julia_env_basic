{
 "cells": [
  {
   "cell_type": "markdown",
   "id": "39c9020f",
   "metadata": {},
   "source": [
    "# Draw histogram."
   ]
  },
  {
   "cell_type": "markdown",
   "id": "3af1ccda",
   "metadata": {},
   "source": [
    "## Basic of julia"
   ]
  },
  {
   "cell_type": "markdown",
   "id": "518027eb",
   "metadata": {},
   "source": [
    "## Number "
   ]
  },
  {
   "cell_type": "code",
   "execution_count": 3,
   "id": "2a1ae86e",
   "metadata": {},
   "outputs": [
    {
     "data": {
      "text/plain": [
       "2"
      ]
     },
     "execution_count": 3,
     "metadata": {},
     "output_type": "execute_result"
    }
   ],
   "source": [
    "a = 1 \n",
    "b = 2 "
   ]
  },
  {
   "cell_type": "code",
   "execution_count": 5,
   "id": "cc861070",
   "metadata": {},
   "outputs": [
    {
     "name": "stdout",
     "output_type": "stream",
     "text": [
      "2.1\n"
     ]
    },
    {
     "data": {
      "text/plain": [
       "3.1"
      ]
     },
     "execution_count": 5,
     "metadata": {},
     "output_type": "execute_result"
    }
   ],
   "source": [
    "a = 1 \n",
    "b = 2.1\n",
    "println(b)\n",
    "c = a + b"
   ]
  },
  {
   "cell_type": "code",
   "execution_count": 2,
   "id": "7ca1c557",
   "metadata": {},
   "outputs": [
    {
     "name": "stdout",
     "output_type": "stream",
     "text": [
      "Int64\n",
      "Int64\n",
      "Float64\n"
     ]
    }
   ],
   "source": [
    "println(typeof(a))\n",
    "typeof(a) |> println\n",
    "typeof(c) |> println"
   ]
  },
  {
   "cell_type": "markdown",
   "id": "f85ee05a",
   "metadata": {},
   "source": [
    "### basic arithmetic operations"
   ]
  },
  {
   "cell_type": "code",
   "execution_count": 3,
   "id": "18b0e081",
   "metadata": {},
   "outputs": [
    {
     "name": "stdout",
     "output_type": "stream",
     "text": [
      "3\n",
      "-1\n",
      "2\n",
      "0.5\n"
     ]
    }
   ],
   "source": [
    "1 + 2 |> println\n",
    "1 - 2 |> println\n",
    "1 * 2 |> println\n",
    "1 / 2 |> println"
   ]
  },
  {
   "cell_type": "code",
   "execution_count": 4,
   "id": "3b643274",
   "metadata": {},
   "outputs": [
    {
     "name": "stdout",
     "output_type": "stream",
     "text": [
      "1\n",
      "1\n"
     ]
    }
   ],
   "source": [
    "rem(10 ,3) |> println\n",
    "10 % 3 |> println"
   ]
  },
  {
   "cell_type": "code",
   "execution_count": 9,
   "id": "d6d7e8c8",
   "metadata": {},
   "outputs": [
    {
     "name": "stdout",
     "output_type": "stream",
     "text": [
      "8\n",
      "2.0\n",
      "2.302585092994046\n"
     ]
    }
   ],
   "source": [
    "2 ^ 3 |> println\n",
    "log(10, 100) |> println\n",
    "log(10) |> println"
   ]
  },
  {
   "cell_type": "code",
   "execution_count": 13,
   "id": "c4ba448c",
   "metadata": {},
   "outputs": [
    {
     "data": {
      "text/plain": [
       "1"
      ]
     },
     "execution_count": 13,
     "metadata": {},
     "output_type": "execute_result"
    }
   ],
   "source": [
    "log(ℯ)"
   ]
  },
  {
   "cell_type": "markdown",
   "id": "d0b4663d",
   "metadata": {},
   "source": [
    "## String"
   ]
  },
  {
   "cell_type": "code",
   "execution_count": 20,
   "id": "16e96037",
   "metadata": {},
   "outputs": [
    {
     "name": "stdout",
     "output_type": "stream",
     "text": [
      "Char\n",
      "String\n"
     ]
    }
   ],
   "source": [
    "typeof('a') |> println\n",
    "typeof(\"a\") |> println"
   ]
  },
  {
   "cell_type": "code",
   "execution_count": 39,
   "id": "111aa1ff",
   "metadata": {},
   "outputs": [
    {
     "name": "stdout",
     "output_type": "stream",
     "text": [
      "1\n",
      "1\n",
      "s\n",
      "23ab\n"
     ]
    }
   ],
   "source": [
    "# string \n",
    "s = \"123abs\"\n",
    "s2 = \"Hello world\"\n",
    "s[1] |> println\n",
    "s[begin] |> println\n",
    "s[end] |> println\n",
    "s[begin+1:end-1] |> println"
   ]
  },
  {
   "cell_type": "code",
   "execution_count": 42,
   "id": "283fad7c",
   "metadata": {},
   "outputs": [
    {
     "name": "stdout",
     "output_type": "stream",
     "text": [
      "123absHello world\n",
      "123absHello world\n",
      "123abs123abs123abs\n"
     ]
    }
   ],
   "source": [
    "string(s,s2) |> println\n",
    "s * s2 |> println\n",
    "s ^ 3 |> println"
   ]
  },
  {
   "cell_type": "markdown",
   "id": "29f6e9f3",
   "metadata": {},
   "source": [
    "## String interpolation "
   ]
  },
  {
   "cell_type": "code",
   "execution_count": 43,
   "id": "6bf48610",
   "metadata": {},
   "outputs": [
    {
     "name": "stdout",
     "output_type": "stream",
     "text": [
      "Hello Asakura\n"
     ]
    }
   ],
   "source": [
    "# string interpolation \n",
    "s = \"Asakura\"\n",
    "s2 = \"Hello $s\"\n",
    "println(s2)"
   ]
  },
  {
   "cell_type": "code",
   "execution_count": 56,
   "id": "f9f8791d",
   "metadata": {},
   "outputs": [
    {
     "name": "stdout",
     "output_type": "stream",
     "text": [
      "$ a\n"
     ]
    }
   ],
   "source": [
    "println(\"\\$ a\")"
   ]
  },
  {
   "cell_type": "code",
   "execution_count": 59,
   "id": "1d1a31dc",
   "metadata": {},
   "outputs": [
    {
     "name": "stdout",
     "output_type": "stream",
     "text": [
      "1.5 + 2.5 = 4.0\n"
     ]
    }
   ],
   "source": [
    "a = 1.5\n",
    "b = 2.5\n",
    "c = \"$a + $b = $(a + b)\"\n",
    "println(c)"
   ]
  },
  {
   "cell_type": "code",
   "execution_count": 61,
   "id": "824e1465",
   "metadata": {},
   "outputs": [
    {
     "name": "stdout",
     "output_type": "stream",
     "text": [
      "a\n",
      "b\n",
      "c\n",
      "d\n",
      "e \n",
      "\"a\\nb\\nc\\nd\\ne \"\n"
     ]
    },
    {
     "data": {
      "text/plain": [
       "\"a\\nb\\nc\\nd\\ne \""
      ]
     },
     "execution_count": 61,
     "metadata": {},
     "output_type": "execute_result"
    }
   ],
   "source": [
    "s3 = \"\"\"a\n",
    "b\n",
    "c\n",
    "d\n",
    "e \"\"\"\n",
    "println(s3)\n",
    "println(repr(s3))\n",
    "s3"
   ]
  },
  {
   "cell_type": "code",
   "execution_count": 62,
   "id": "e3cc1f92",
   "metadata": {},
   "outputs": [
    {
     "name": "stdout",
     "output_type": "stream",
     "text": [
      "$\n",
      "\"\\$\"\n"
     ]
    }
   ],
   "source": [
    "println(\"\\$\")\n",
    "println(repr(\"\\$\"))"
   ]
  },
  {
   "cell_type": "markdown",
   "id": "d7bc2acb",
   "metadata": {},
   "source": [
    "## Array"
   ]
  },
  {
   "cell_type": "code",
   "execution_count": 64,
   "id": "46ec4897",
   "metadata": {},
   "outputs": [
    {
     "data": {
      "text/plain": [
       "3-element Array{Int64,1}:\n",
       " 1\n",
       " 2\n",
       " 3"
      ]
     },
     "execution_count": 64,
     "metadata": {},
     "output_type": "execute_result"
    }
   ],
   "source": [
    "a = [1,2,3]"
   ]
  },
  {
   "cell_type": "code",
   "execution_count": 70,
   "id": "ba874c58",
   "metadata": {},
   "outputs": [
    {
     "name": "stdout",
     "output_type": "stream",
     "text": [
      "[5, 7, 9]\n",
      "[4, 10, 18]\n"
     ]
    }
   ],
   "source": [
    "b = [4,5,6]\n",
    "a .+ b |> println\n",
    "a .* b |> println"
   ]
  },
  {
   "cell_type": "code",
   "execution_count": 71,
   "id": "3be17d92",
   "metadata": {},
   "outputs": [
    {
     "data": {
      "text/plain": [
       "3-element Array{Any,1}:\n",
       "  \"a\"\n",
       " 1\n",
       "  \"b\""
      ]
     },
     "execution_count": 71,
     "metadata": {},
     "output_type": "execute_result"
    }
   ],
   "source": [
    "c = [\"a\", 1, \"b\"]"
   ]
  },
  {
   "cell_type": "markdown",
   "id": "179f9118",
   "metadata": {},
   "source": [
    "### pythonic list comprehension in julia"
   ]
  },
  {
   "cell_type": "code",
   "execution_count": 88,
   "id": "f1db8fe4",
   "metadata": {},
   "outputs": [
    {
     "data": {
      "text/plain": [
       "2-element Array{Array{Int64,1},1}:\n",
       " [1, 2, 3]\n",
       " [7, 8, 9]"
      ]
     },
     "execution_count": 88,
     "metadata": {},
     "output_type": "execute_result"
    }
   ],
   "source": [
    "a = [[1,2,3], [4,5,6], [7,8,9]]\n",
    "b = [aa for aa = a if aa[2] % 2 == 0 ]  "
   ]
  },
  {
   "cell_type": "markdown",
   "id": "6df9164f",
   "metadata": {},
   "source": [
    "### Multidimensional array comprehensions "
   ]
  },
  {
   "cell_type": "code",
   "execution_count": 96,
   "id": "43ec038b",
   "metadata": {},
   "outputs": [
    {
     "data": {
      "text/plain": [
       "5×5 Array{Tuple{Int64,Int64},2}:\n",
       " (1, 6)  (1, 7)  (1, 8)  (1, 9)  (1, 10)\n",
       " (2, 6)  (2, 7)  (2, 8)  (2, 9)  (2, 10)\n",
       " (3, 6)  (3, 7)  (3, 8)  (3, 9)  (3, 10)\n",
       " (4, 6)  (4, 7)  (4, 8)  (4, 9)  (4, 10)\n",
       " (5, 6)  (5, 7)  (5, 8)  (5, 9)  (5, 10)"
      ]
     },
     "execution_count": 96,
     "metadata": {},
     "output_type": "execute_result"
    }
   ],
   "source": [
    "c = [ (i , j) for i in 1:5, j in 6:10]"
   ]
  },
  {
   "cell_type": "markdown",
   "id": "e432c2ac",
   "metadata": {},
   "source": [
    "##  Array string"
   ]
  },
  {
   "cell_type": "code",
   "execution_count": 73,
   "id": "3e5e5921",
   "metadata": {},
   "outputs": [
    {
     "data": {
      "text/plain": [
       "\"Hello/World/!\""
      ]
     },
     "execution_count": 73,
     "metadata": {},
     "output_type": "execute_result"
    }
   ],
   "source": [
    "join([\"Hello\", \"World\", \"!\"], \"/\")"
   ]
  },
  {
   "cell_type": "code",
   "execution_count": 121,
   "id": "1c83e854",
   "metadata": {},
   "outputs": [
    {
     "name": "stdout",
     "output_type": "stream",
     "text": [
      "SubString{String}[\"Hello\", \"World\", \"!\"]\n",
      "SubString{String}[\"Hell\", \" W\", \"rld !\"]\n"
     ]
    }
   ],
   "source": [
    "split(\"Hello World !\",\" \") |> println\n",
    "split(\"Hello World !\",\"o\") |> println"
   ]
  },
  {
   "cell_type": "code",
   "execution_count": 78,
   "id": "c680b1f5",
   "metadata": {},
   "outputs": [
    {
     "data": {
      "text/plain": [
       "2-element Array{Array{SubString{String},1},1}:\n",
       " [\"a\", \"c\"]\n",
       " [\"cc\", \"cc\"]"
      ]
     },
     "execution_count": 78,
     "metadata": {},
     "output_type": "execute_result"
    }
   ],
   "source": [
    "sp = split.([\"abc\", \"ccbcc\"], \"b\")"
   ]
  },
  {
   "cell_type": "code",
   "execution_count": 83,
   "id": "1354394b",
   "metadata": {},
   "outputs": [
    {
     "data": {
      "text/plain": [
       "\"cc\""
      ]
     },
     "execution_count": 83,
     "metadata": {},
     "output_type": "execute_result"
    }
   ],
   "source": [
    "sp[2][1]"
   ]
  },
  {
   "cell_type": "code",
   "execution_count": 84,
   "id": "81c12f99",
   "metadata": {},
   "outputs": [
    {
     "name": "stdout",
     "output_type": "stream",
     "text": [
      "yahoo yahoo \n"
     ]
    }
   ],
   "source": [
    "replace(\"hoge hoge \", \"hoge\" => \"yahoo\") |> println"
   ]
  },
  {
   "cell_type": "code",
   "execution_count": 86,
   "id": "121af697",
   "metadata": {},
   "outputs": [
    {
     "name": "stdout",
     "output_type": "stream",
     "text": [
      "SpO2 SpO2\n"
     ]
    }
   ],
   "source": [
    "replace(\"SpO2 SPO2\", \"SPO2\" => \"SpO2\") |> println"
   ]
  },
  {
   "cell_type": "code",
   "execution_count": 87,
   "id": "586dedbd",
   "metadata": {},
   "outputs": [
    {
     "name": "stdout",
     "output_type": "stream",
     "text": [
      "[\"yahoo\", \"yahoo\", \"hogege\"]\n",
      "[\"yahoo\", \"yahoo\", \"yahooge\"]\n"
     ]
    }
   ],
   "source": [
    "replace([\"hoge\", \"hoge\", \"hogege\"], \"hoge\" => \"yahoo\") |> println\n",
    "replace.([\"hoge\", \"hoge\", \"hogege\"], \"hoge\" => \"yahoo\") |> println"
   ]
  },
  {
   "cell_type": "code",
   "execution_count": 76,
   "id": "5d5bf7dc",
   "metadata": {},
   "outputs": [
    {
     "data": {
      "text/plain": [
       "Pair{Int64,Tuple{Int64,Int64}}"
      ]
     },
     "execution_count": 76,
     "metadata": {},
     "output_type": "execute_result"
    }
   ],
   "source": [
    "typeof(1 => (2,3))"
   ]
  },
  {
   "cell_type": "markdown",
   "id": "6133658b",
   "metadata": {},
   "source": [
    "## For  "
   ]
  },
  {
   "cell_type": "code",
   "execution_count": 11,
   "id": "264f916e",
   "metadata": {},
   "outputs": [
    {
     "name": "stdout",
     "output_type": "stream",
     "text": [
      "1\n",
      "2\n",
      "3\n",
      "4\n",
      "5\n",
      "6\n",
      "7\n",
      "8\n",
      "9\n",
      "10\n"
     ]
    }
   ],
   "source": [
    "for i in 1:10\n",
    "    println(i)\n",
    "end"
   ]
  },
  {
   "cell_type": "code",
   "execution_count": 94,
   "id": "d02d4fd4",
   "metadata": {},
   "outputs": [
    {
     "name": "stdout",
     "output_type": "stream",
     "text": [
      "1\n",
      "2\n",
      "3\n",
      "4\n",
      "5\n",
      "6\n",
      "7\n",
      "8\n",
      "9\n",
      "10\n"
     ]
    }
   ],
   "source": [
    "for i in 1:10 println(i) end"
   ]
  },
  {
   "cell_type": "code",
   "execution_count": 98,
   "id": "487037c1",
   "metadata": {},
   "outputs": [
    {
     "name": "stdout",
     "output_type": "stream",
     "text": [
      "1\n",
      "2\n",
      "a\n"
     ]
    }
   ],
   "source": [
    "a = [1,2, \"a\"]\n",
    "for i in a println(i) end"
   ]
  },
  {
   "cell_type": "code",
   "execution_count": 95,
   "id": "b85a6fb2",
   "metadata": {},
   "outputs": [
    {
     "name": "stdout",
     "output_type": "stream",
     "text": [
      "a\n",
      "b\n",
      "c\n",
      "d\n",
      "e\n",
      "f\n",
      "g\n"
     ]
    }
   ],
   "source": [
    "s = \"abcdefg\"\n",
    "for i in s println(i) end"
   ]
  },
  {
   "cell_type": "code",
   "execution_count": 14,
   "id": "9bbd6f44",
   "metadata": {},
   "outputs": [
    {
     "name": "stdout",
     "output_type": "stream",
     "text": [
      "1\n",
      "4\n",
      "7\n",
      "10\n"
     ]
    }
   ],
   "source": [
    "for i in 1:3:10 println(i) end"
   ]
  },
  {
   "cell_type": "code",
   "execution_count": 100,
   "id": "2284b859",
   "metadata": {},
   "outputs": [
    {
     "name": "stdout",
     "output_type": "stream",
     "text": [
      "10\n",
      "5\n"
     ]
    }
   ],
   "source": [
    "for i in 10:-5:2 println(i) end"
   ]
  },
  {
   "cell_type": "code",
   "execution_count": 101,
   "id": "dc6812b8",
   "metadata": {},
   "outputs": [
    {
     "name": "stdout",
     "output_type": "stream",
     "text": [
      "1, 6\n",
      "1, 7\n",
      "1, 8\n",
      "1, 9\n",
      "1, 10\n",
      "2, 6\n",
      "2, 7\n",
      "2, 8\n",
      "2, 9\n",
      "2, 10\n",
      "3, 6\n",
      "3, 7\n",
      "3, 8\n",
      "3, 9\n",
      "3, 10\n",
      "4, 6\n",
      "4, 7\n",
      "4, 8\n",
      "4, 9\n",
      "4, 10\n",
      "5, 6\n",
      "5, 7\n",
      "5, 8\n",
      "5, 9\n",
      "5, 10\n"
     ]
    }
   ],
   "source": [
    "for i in 1:5\n",
    "    for j in 6:10\n",
    "        println(\"$i, $j\")\n",
    "    end\n",
    "end"
   ]
  },
  {
   "cell_type": "code",
   "execution_count": 102,
   "id": "2867a1cf",
   "metadata": {},
   "outputs": [
    {
     "name": "stdout",
     "output_type": "stream",
     "text": [
      "1, 6\n",
      "1, 7\n",
      "1, 8\n",
      "1, 9\n",
      "1, 10\n",
      "2, 6\n",
      "2, 7\n",
      "2, 8\n",
      "2, 9\n",
      "2, 10\n",
      "3, 6\n",
      "3, 7\n",
      "3, 8\n",
      "3, 9\n",
      "3, 10\n",
      "4, 6\n",
      "4, 7\n",
      "4, 8\n",
      "4, 9\n",
      "4, 10\n",
      "5, 6\n",
      "5, 7\n",
      "5, 8\n",
      "5, 9\n",
      "5, 10\n"
     ]
    }
   ],
   "source": [
    "for i in 1:5, j in 6:10\n",
    "    println(\"$i, $j\")\n",
    "end"
   ]
  },
  {
   "cell_type": "code",
   "execution_count": 104,
   "id": "8b7fee29",
   "metadata": {},
   "outputs": [
    {
     "name": "stdout",
     "output_type": "stream",
     "text": [
      "1, 6\n",
      "2, 7\n",
      "3, 8\n",
      "4, 9\n",
      "5, 10\n"
     ]
    }
   ],
   "source": [
    "for (i, j) in zip(1:5, 6:10)\n",
    "    println(\"$i, $j\")\n",
    "end"
   ]
  },
  {
   "cell_type": "markdown",
   "id": "63a9b5f3",
   "metadata": {},
   "source": [
    "## if else \n",
    "https://docs.julialang.org/en/v1/manual/control-flow/"
   ]
  },
  {
   "cell_type": "code",
   "execution_count": 106,
   "id": "dcc845b7",
   "metadata": {},
   "outputs": [
    {
     "name": "stdout",
     "output_type": "stream",
     "text": [
      "x is equal to y\n"
     ]
    }
   ],
   "source": [
    "x = 2 \n",
    "y = 2 \n",
    "if x < y\n",
    "    println(\"x is less than y\")\n",
    "elseif x > y\n",
    "    println(\"x is greater than y\")\n",
    "else\n",
    "    println(\"x is equal to y\")\n",
    "end"
   ]
  },
  {
   "cell_type": "markdown",
   "id": "1187bb00",
   "metadata": {},
   "source": [
    "### Ternary operator"
   ]
  },
  {
   "cell_type": "code",
   "execution_count": 114,
   "id": "c8d6eb57",
   "metadata": {},
   "outputs": [
    {
     "data": {
      "text/plain": [
       "\"x is greater than y\""
      ]
     },
     "execution_count": 114,
     "metadata": {},
     "output_type": "execute_result"
    }
   ],
   "source": [
    "x = 2\n",
    "y = 2\n",
    "z = x < y ? \"x is less than y\" : \"x is greater than y\" "
   ]
  },
  {
   "cell_type": "code",
   "execution_count": 115,
   "id": "0abe73d0",
   "metadata": {},
   "outputs": [
    {
     "data": {
      "text/plain": [
       "\"x is equal to y\""
      ]
     },
     "execution_count": 115,
     "metadata": {},
     "output_type": "execute_result"
    }
   ],
   "source": [
    "z = x < y ? \"x is less than y\" : x > y ? \"x is greater thany\" : \"x is equal to y\""
   ]
  },
  {
   "cell_type": "markdown",
   "id": "1dea53d4",
   "metadata": {},
   "source": [
    "### begin end block"
   ]
  },
  {
   "cell_type": "code",
   "execution_count": 116,
   "id": "992da062",
   "metadata": {},
   "outputs": [
    {
     "data": {
      "text/plain": [
       "3"
      ]
     },
     "execution_count": 116,
     "metadata": {},
     "output_type": "execute_result"
    }
   ],
   "source": [
    "zz = begin \n",
    "    xx = 1\n",
    "    yy = 2\n",
    "    xx + yy\n",
    "end"
   ]
  },
  {
   "cell_type": "markdown",
   "id": "93094113",
   "metadata": {},
   "source": [
    "# Function"
   ]
  },
  {
   "cell_type": "code",
   "execution_count": 44,
   "id": "5bb8498c",
   "metadata": {},
   "outputs": [
    {
     "name": "stdout",
     "output_type": "stream",
     "text": [
      "3\n",
      "2\n"
     ]
    }
   ],
   "source": [
    "function f(x,y)\n",
    "    x + y\n",
    "end\n",
    "\n",
    "f(1,2) |> println\n",
    "\n",
    "function g(x,y)\n",
    "    return x*y\n",
    "    x + y\n",
    "end \n",
    "\n",
    "g(1,2) |> println"
   ]
  },
  {
   "cell_type": "markdown",
   "id": "7e02b5ef",
   "metadata": {},
   "source": [
    "### generic function "
   ]
  },
  {
   "cell_type": "code",
   "execution_count": 48,
   "id": "c48cfb24",
   "metadata": {},
   "outputs": [
    {
     "data": {
      "text/plain": [
       "5"
      ]
     },
     "execution_count": 48,
     "metadata": {},
     "output_type": "execute_result"
    }
   ],
   "source": [
    "# generic function\n",
    "Σ(x, y) = x + y\n",
    "\n",
    "Σ(1,4)"
   ]
  },
  {
   "cell_type": "markdown",
   "id": "02393204",
   "metadata": {},
   "source": [
    "### operators are functions "
   ]
  },
  {
   "cell_type": "code",
   "execution_count": 50,
   "id": "93544586",
   "metadata": {},
   "outputs": [
    {
     "name": "stdout",
     "output_type": "stream",
     "text": [
      "6\n"
     ]
    },
    {
     "data": {
      "text/plain": [
       "(1, 2, 3)"
      ]
     },
     "execution_count": 50,
     "metadata": {},
     "output_type": "execute_result"
    }
   ],
   "source": [
    "1 + 2 + 3 |> println"
   ]
  },
  {
   "cell_type": "code",
   "execution_count": 62,
   "id": "19928909",
   "metadata": {},
   "outputs": [
    {
     "name": "stdout",
     "output_type": "stream",
     "text": [
      "8\n",
      "10\n"
     ]
    }
   ],
   "source": [
    "+(1,2,5) |> println\n",
    "*(1,2,5) |> println"
   ]
  },
  {
   "cell_type": "code",
   "execution_count": 122,
   "id": "86c08f5b",
   "metadata": {},
   "outputs": [
    {
     "name": "stdout",
     "output_type": "stream",
     "text": [
      "6\n",
      "6\n"
     ]
    }
   ],
   "source": [
    "x = [1,2,3]\n",
    "sum(x) |> println\n",
    "[1,2,3] |> sum |> println"
   ]
  },
  {
   "cell_type": "markdown",
   "id": "1e238955",
   "metadata": {},
   "source": [
    "### Anonymous functions "
   ]
  },
  {
   "cell_type": "code",
   "execution_count": 123,
   "id": "996cbfdf",
   "metadata": {},
   "outputs": [
    {
     "data": {
      "text/plain": [
       "#3 (generic function with 1 method)"
      ]
     },
     "execution_count": 123,
     "metadata": {},
     "output_type": "execute_result"
    }
   ],
   "source": [
    "x -> x^2 + 2x - 1"
   ]
  },
  {
   "cell_type": "code",
   "execution_count": 124,
   "id": "c9a61422",
   "metadata": {},
   "outputs": [
    {
     "data": {
      "text/plain": [
       "30-element Array{Int64,1}:\n",
       "   2\n",
       "   7\n",
       "  14\n",
       "  23\n",
       "  34\n",
       "  47\n",
       "  62\n",
       "  79\n",
       "  98\n",
       " 119\n",
       " 142\n",
       " 167\n",
       " 194\n",
       "   ⋮\n",
       " 398\n",
       " 439\n",
       " 482\n",
       " 527\n",
       " 574\n",
       " 623\n",
       " 674\n",
       " 727\n",
       " 782\n",
       " 839\n",
       " 898\n",
       " 959"
      ]
     },
     "execution_count": 124,
     "metadata": {},
     "output_type": "execute_result"
    }
   ],
   "source": [
    "x = 1:30\n",
    "y = map(x -> x^2 + 2x - 1, x)"
   ]
  },
  {
   "cell_type": "code",
   "execution_count": 127,
   "id": "a932d56d",
   "metadata": {},
   "outputs": [
    {
     "name": "stderr",
     "output_type": "stream",
     "text": [
      "\u001b[32m\u001b[1m   Updating\u001b[22m\u001b[39m registry at `~/.julia/registries/General`\n"
     ]
    },
    {
     "name": "stdout",
     "output_type": "stream",
     "text": [
      "\u001b[?25l    "
     ]
    },
    {
     "name": "stderr",
     "output_type": "stream",
     "text": [
      "\u001b[32m\u001b[1m   Updating\u001b[22m\u001b[39m git-repo `https://github.com/JuliaRegistries/General.git`\n"
     ]
    },
    {
     "name": "stdout",
     "output_type": "stream",
     "text": [
      "\u001b[2K\u001b[?25h[1mFetching:\u001b[22m\u001b[39m [========================================>]  100.0 %"
     ]
    },
    {
     "name": "stderr",
     "output_type": "stream",
     "text": [
      "\u001b[32m\u001b[1m  Resolving\u001b[22m\u001b[39m package versions...\n",
      "\u001b[32m\u001b[1m   Updating\u001b[22m\u001b[39m `~/.julia/environments/v1.4/Project.toml`\n",
      "\u001b[90m [no changes]\u001b[39m\n",
      "\u001b[32m\u001b[1m   Updating\u001b[22m\u001b[39m `~/.julia/environments/v1.4/Manifest.toml`\n",
      "\u001b[90m [no changes]\u001b[39m\n"
     ]
    }
   ],
   "source": [
    "using Pkg\n",
    "Pkg.add(\"Plots\")"
   ]
  },
  {
   "cell_type": "code",
   "execution_count": 125,
   "id": "c43dd62c",
   "metadata": {},
   "outputs": [],
   "source": [
    "using Plots"
   ]
  },
  {
   "cell_type": "code",
   "execution_count": 126,
   "id": "e4eb1bf1",
   "metadata": {},
   "outputs": [
    {
     "data": {
      "image/svg+xml": [
       "<?xml version=\"1.0\" encoding=\"utf-8\"?>\n",
       "<svg xmlns=\"http://www.w3.org/2000/svg\" xmlns:xlink=\"http://www.w3.org/1999/xlink\" width=\"600\" height=\"400\" viewBox=\"0 0 2400 1600\">\n",
       "<defs>\n",
       "  <clipPath id=\"clip320\">\n",
       "    <rect x=\"0\" y=\"0\" width=\"2400\" height=\"1600\"/>\n",
       "  </clipPath>\n",
       "</defs>\n",
       "<path clip-path=\"url(#clip320)\" d=\"\n",
       "M0 1600 L2400 1600 L2400 0 L0 0  Z\n",
       "  \" fill=\"#ffffff\" fill-rule=\"evenodd\" fill-opacity=\"1\"/>\n",
       "<defs>\n",
       "  <clipPath id=\"clip321\">\n",
       "    <rect x=\"480\" y=\"0\" width=\"1681\" height=\"1600\"/>\n",
       "  </clipPath>\n",
       "</defs>\n",
       "<path clip-path=\"url(#clip320)\" d=\"\n",
       "M166.205 1486.45 L2352.76 1486.45 L2352.76 47.2441 L166.205 47.2441  Z\n",
       "  \" fill=\"#ffffff\" fill-rule=\"evenodd\" fill-opacity=\"1\"/>\n",
       "<defs>\n",
       "  <clipPath id=\"clip322\">\n",
       "    <rect x=\"166\" y=\"47\" width=\"2188\" height=\"1440\"/>\n",
       "  </clipPath>\n",
       "</defs>\n",
       "<polyline clip-path=\"url(#clip322)\" style=\"stroke:#000000; stroke-width:2; stroke-opacity:0.1; fill:none\" points=\"\n",
       "  512.61,1486.45 512.61,47.2441 \n",
       "  \"/>\n",
       "<polyline clip-path=\"url(#clip322)\" style=\"stroke:#000000; stroke-width:2; stroke-opacity:0.1; fill:none\" points=\"\n",
       "  868.263,1486.45 868.263,47.2441 \n",
       "  \"/>\n",
       "<polyline clip-path=\"url(#clip322)\" style=\"stroke:#000000; stroke-width:2; stroke-opacity:0.1; fill:none\" points=\"\n",
       "  1223.92,1486.45 1223.92,47.2441 \n",
       "  \"/>\n",
       "<polyline clip-path=\"url(#clip322)\" style=\"stroke:#000000; stroke-width:2; stroke-opacity:0.1; fill:none\" points=\"\n",
       "  1579.57,1486.45 1579.57,47.2441 \n",
       "  \"/>\n",
       "<polyline clip-path=\"url(#clip322)\" style=\"stroke:#000000; stroke-width:2; stroke-opacity:0.1; fill:none\" points=\"\n",
       "  1935.22,1486.45 1935.22,47.2441 \n",
       "  \"/>\n",
       "<polyline clip-path=\"url(#clip322)\" style=\"stroke:#000000; stroke-width:2; stroke-opacity:0.1; fill:none\" points=\"\n",
       "  2290.87,1486.45 2290.87,47.2441 \n",
       "  \"/>\n",
       "<polyline clip-path=\"url(#clip320)\" style=\"stroke:#000000; stroke-width:4; stroke-opacity:1; fill:none\" points=\"\n",
       "  166.205,1486.45 2352.76,1486.45 \n",
       "  \"/>\n",
       "<polyline clip-path=\"url(#clip320)\" style=\"stroke:#000000; stroke-width:4; stroke-opacity:1; fill:none\" points=\"\n",
       "  512.61,1486.45 512.61,1469.18 \n",
       "  \"/>\n",
       "<polyline clip-path=\"url(#clip320)\" style=\"stroke:#000000; stroke-width:4; stroke-opacity:1; fill:none\" points=\"\n",
       "  868.263,1486.45 868.263,1469.18 \n",
       "  \"/>\n",
       "<polyline clip-path=\"url(#clip320)\" style=\"stroke:#000000; stroke-width:4; stroke-opacity:1; fill:none\" points=\"\n",
       "  1223.92,1486.45 1223.92,1469.18 \n",
       "  \"/>\n",
       "<polyline clip-path=\"url(#clip320)\" style=\"stroke:#000000; stroke-width:4; stroke-opacity:1; fill:none\" points=\"\n",
       "  1579.57,1486.45 1579.57,1469.18 \n",
       "  \"/>\n",
       "<polyline clip-path=\"url(#clip320)\" style=\"stroke:#000000; stroke-width:4; stroke-opacity:1; fill:none\" points=\"\n",
       "  1935.22,1486.45 1935.22,1469.18 \n",
       "  \"/>\n",
       "<polyline clip-path=\"url(#clip320)\" style=\"stroke:#000000; stroke-width:4; stroke-opacity:1; fill:none\" points=\"\n",
       "  2290.87,1486.45 2290.87,1469.18 \n",
       "  \"/>\n",
       "<path clip-path=\"url(#clip320)\" d=\"M 0 0 M502.888 1512.56 L521.244 1512.56 L521.244 1516.5 L507.17 1516.5 L507.17 1524.97 Q508.189 1524.62 509.207 1524.46 Q510.226 1524.27 511.244 1524.27 Q517.031 1524.27 520.411 1527.44 Q523.791 1530.62 523.791 1536.03 Q523.791 1541.61 520.318 1544.71 Q516.846 1547.79 510.527 1547.79 Q508.351 1547.79 506.082 1547.42 Q503.837 1547.05 501.43 1546.31 L501.43 1541.61 Q503.513 1542.74 505.735 1543.3 Q507.957 1543.86 510.434 1543.86 Q514.439 1543.86 516.777 1541.75 Q519.115 1539.64 519.115 1536.03 Q519.115 1532.42 516.777 1530.31 Q514.439 1528.21 510.434 1528.21 Q508.559 1528.21 506.684 1528.62 Q504.832 1529.04 502.888 1529.92 L502.888 1512.56 Z\" fill=\"#000000\" fill-rule=\"evenodd\" fill-opacity=\"1\" /><path clip-path=\"url(#clip320)\" d=\"M 0 0 M845.138 1543.18 L852.777 1543.18 L852.777 1516.82 L844.466 1518.49 L844.466 1514.23 L852.73 1512.56 L857.406 1512.56 L857.406 1543.18 L865.045 1543.18 L865.045 1547.12 L845.138 1547.12 L845.138 1543.18 Z\" fill=\"#000000\" fill-rule=\"evenodd\" fill-opacity=\"1\" /><path clip-path=\"url(#clip320)\" d=\"M 0 0 M880.114 1515.64 Q876.503 1515.64 874.675 1519.2 Q872.869 1522.75 872.869 1529.87 Q872.869 1536.98 874.675 1540.55 Q876.503 1544.09 880.114 1544.09 Q883.749 1544.09 885.554 1540.55 Q887.383 1536.98 887.383 1529.87 Q887.383 1522.75 885.554 1519.2 Q883.749 1515.64 880.114 1515.64 M880.114 1511.93 Q885.925 1511.93 888.98 1516.54 Q892.059 1521.12 892.059 1529.87 Q892.059 1538.6 888.98 1543.21 Q885.925 1547.79 880.114 1547.79 Q874.304 1547.79 871.226 1543.21 Q868.17 1538.6 868.17 1529.87 Q868.17 1521.12 871.226 1516.54 Q874.304 1511.93 880.114 1511.93 Z\" fill=\"#000000\" fill-rule=\"evenodd\" fill-opacity=\"1\" /><path clip-path=\"url(#clip320)\" d=\"M 0 0 M1201.29 1543.18 L1208.93 1543.18 L1208.93 1516.82 L1200.62 1518.49 L1200.62 1514.23 L1208.88 1512.56 L1213.56 1512.56 L1213.56 1543.18 L1221.2 1543.18 L1221.2 1547.12 L1201.29 1547.12 L1201.29 1543.18 Z\" fill=\"#000000\" fill-rule=\"evenodd\" fill-opacity=\"1\" /><path clip-path=\"url(#clip320)\" d=\"M 0 0 M1226.31 1512.56 L1244.67 1512.56 L1244.67 1516.5 L1230.59 1516.5 L1230.59 1524.97 Q1231.61 1524.62 1232.63 1524.46 Q1233.65 1524.27 1234.67 1524.27 Q1240.45 1524.27 1243.83 1527.44 Q1247.21 1530.62 1247.21 1536.03 Q1247.21 1541.61 1243.74 1544.71 Q1240.27 1547.79 1233.95 1547.79 Q1231.77 1547.79 1229.51 1547.42 Q1227.26 1547.05 1224.85 1546.31 L1224.85 1541.61 Q1226.94 1542.74 1229.16 1543.3 Q1231.38 1543.86 1233.86 1543.86 Q1237.86 1543.86 1240.2 1541.75 Q1242.54 1539.64 1242.54 1536.03 Q1242.54 1532.42 1240.2 1530.31 Q1237.86 1528.21 1233.86 1528.21 Q1231.98 1528.21 1230.11 1528.62 Q1228.26 1529.04 1226.31 1529.92 L1226.31 1512.56 Z\" fill=\"#000000\" fill-rule=\"evenodd\" fill-opacity=\"1\" /><path clip-path=\"url(#clip320)\" d=\"M 0 0 M1560.71 1543.18 L1577.03 1543.18 L1577.03 1547.12 L1555.09 1547.12 L1555.09 1543.18 Q1557.75 1540.43 1562.33 1535.8 Q1566.94 1531.15 1568.12 1529.81 Q1570.37 1527.28 1571.25 1525.55 Q1572.15 1523.79 1572.15 1522.1 Q1572.15 1519.34 1570.2 1517.61 Q1568.28 1515.87 1565.18 1515.87 Q1562.98 1515.87 1560.53 1516.63 Q1558.1 1517.4 1555.32 1518.95 L1555.32 1514.23 Q1558.14 1513.09 1560.6 1512.51 Q1563.05 1511.93 1565.09 1511.93 Q1570.46 1511.93 1573.65 1514.62 Q1576.85 1517.31 1576.85 1521.8 Q1576.85 1523.93 1576.04 1525.85 Q1575.25 1527.74 1573.14 1530.34 Q1572.57 1531.01 1569.46 1534.23 Q1566.36 1537.42 1560.71 1543.18 Z\" fill=\"#000000\" fill-rule=\"evenodd\" fill-opacity=\"1\" /><path clip-path=\"url(#clip320)\" d=\"M 0 0 M1592.1 1515.64 Q1588.49 1515.64 1586.66 1519.2 Q1584.86 1522.75 1584.86 1529.87 Q1584.86 1536.98 1586.66 1540.55 Q1588.49 1544.09 1592.1 1544.09 Q1595.74 1544.09 1597.54 1540.55 Q1599.37 1536.98 1599.37 1529.87 Q1599.37 1522.75 1597.54 1519.2 Q1595.74 1515.64 1592.1 1515.64 M1592.1 1511.93 Q1597.91 1511.93 1600.97 1516.54 Q1604.05 1521.12 1604.05 1529.87 Q1604.05 1538.6 1600.97 1543.21 Q1597.91 1547.79 1592.1 1547.79 Q1586.29 1547.79 1583.21 1543.21 Q1580.16 1538.6 1580.16 1529.87 Q1580.16 1521.12 1583.21 1516.54 Q1586.29 1511.93 1592.1 1511.93 Z\" fill=\"#000000\" fill-rule=\"evenodd\" fill-opacity=\"1\" /><path clip-path=\"url(#clip320)\" d=\"M 0 0 M1916.86 1543.18 L1933.18 1543.18 L1933.18 1547.12 L1911.24 1547.12 L1911.24 1543.18 Q1913.9 1540.43 1918.48 1535.8 Q1923.09 1531.15 1924.27 1529.81 Q1926.52 1527.28 1927.4 1525.55 Q1928.3 1523.79 1928.3 1522.1 Q1928.3 1519.34 1926.35 1517.61 Q1924.43 1515.87 1921.33 1515.87 Q1919.13 1515.87 1916.68 1516.63 Q1914.25 1517.4 1911.47 1518.95 L1911.47 1514.23 Q1914.29 1513.09 1916.75 1512.51 Q1919.2 1511.93 1921.24 1511.93 Q1926.61 1511.93 1929.8 1514.62 Q1933 1517.31 1933 1521.8 Q1933 1523.93 1932.19 1525.85 Q1931.4 1527.74 1929.29 1530.34 Q1928.72 1531.01 1925.61 1534.23 Q1922.51 1537.42 1916.86 1543.18 Z\" fill=\"#000000\" fill-rule=\"evenodd\" fill-opacity=\"1\" /><path clip-path=\"url(#clip320)\" d=\"M 0 0 M1938.3 1512.56 L1956.66 1512.56 L1956.66 1516.5 L1942.58 1516.5 L1942.58 1524.97 Q1943.6 1524.62 1944.62 1524.46 Q1945.64 1524.27 1946.66 1524.27 Q1952.44 1524.27 1955.82 1527.44 Q1959.2 1530.62 1959.2 1536.03 Q1959.2 1541.61 1955.73 1544.71 Q1952.26 1547.79 1945.94 1547.79 Q1943.76 1547.79 1941.49 1547.42 Q1939.25 1547.05 1936.84 1546.31 L1936.84 1541.61 Q1938.92 1542.74 1941.15 1543.3 Q1943.37 1543.86 1945.84 1543.86 Q1949.85 1543.86 1952.19 1541.75 Q1954.53 1539.64 1954.53 1536.03 Q1954.53 1532.42 1952.19 1530.31 Q1949.85 1528.21 1945.84 1528.21 Q1943.97 1528.21 1942.09 1528.62 Q1940.24 1529.04 1938.3 1529.92 L1938.3 1512.56 Z\" fill=\"#000000\" fill-rule=\"evenodd\" fill-opacity=\"1\" /><path clip-path=\"url(#clip320)\" d=\"M 0 0 M2281.61 1528.49 Q2284.97 1529.2 2286.84 1531.47 Q2288.74 1533.74 2288.74 1537.07 Q2288.74 1542.19 2285.22 1544.99 Q2281.71 1547.79 2275.22 1547.79 Q2273.05 1547.79 2270.73 1547.35 Q2268.44 1546.93 2265.99 1546.08 L2265.99 1541.56 Q2267.93 1542.7 2270.25 1543.28 Q2272.56 1543.86 2275.09 1543.86 Q2279.48 1543.86 2281.78 1542.12 Q2284.09 1540.38 2284.09 1537.07 Q2284.09 1534.02 2281.94 1532.31 Q2279.81 1530.57 2275.99 1530.57 L2271.96 1530.57 L2271.96 1526.73 L2276.17 1526.73 Q2279.62 1526.73 2281.45 1525.36 Q2283.28 1523.97 2283.28 1521.38 Q2283.28 1518.72 2281.38 1517.31 Q2279.51 1515.87 2275.99 1515.87 Q2274.07 1515.87 2271.87 1516.29 Q2269.67 1516.7 2267.03 1517.58 L2267.03 1513.42 Q2269.69 1512.68 2272.01 1512.31 Q2274.34 1511.93 2276.4 1511.93 Q2281.73 1511.93 2284.83 1514.37 Q2287.93 1516.77 2287.93 1520.89 Q2287.93 1523.76 2286.29 1525.75 Q2284.65 1527.72 2281.61 1528.49 Z\" fill=\"#000000\" fill-rule=\"evenodd\" fill-opacity=\"1\" /><path clip-path=\"url(#clip320)\" d=\"M 0 0 M2303.81 1515.64 Q2300.2 1515.64 2298.37 1519.2 Q2296.57 1522.75 2296.57 1529.87 Q2296.57 1536.98 2298.37 1540.55 Q2300.2 1544.09 2303.81 1544.09 Q2307.45 1544.09 2309.25 1540.55 Q2311.08 1536.98 2311.08 1529.87 Q2311.08 1522.75 2309.25 1519.2 Q2307.45 1515.64 2303.81 1515.64 M2303.81 1511.93 Q2309.62 1511.93 2312.68 1516.54 Q2315.76 1521.12 2315.76 1529.87 Q2315.76 1538.6 2312.68 1543.21 Q2309.62 1547.79 2303.81 1547.79 Q2298 1547.79 2294.92 1543.21 Q2291.87 1538.6 2291.87 1529.87 Q2291.87 1521.12 2294.92 1516.54 Q2298 1511.93 2303.81 1511.93 Z\" fill=\"#000000\" fill-rule=\"evenodd\" fill-opacity=\"1\" /><polyline clip-path=\"url(#clip322)\" style=\"stroke:#000000; stroke-width:2; stroke-opacity:0.1; fill:none\" points=\"\n",
       "  166.205,1448.55 2352.76,1448.55 \n",
       "  \"/>\n",
       "<polyline clip-path=\"url(#clip322)\" style=\"stroke:#000000; stroke-width:2; stroke-opacity:0.1; fill:none\" points=\"\n",
       "  166.205,1164.8 2352.76,1164.8 \n",
       "  \"/>\n",
       "<polyline clip-path=\"url(#clip322)\" style=\"stroke:#000000; stroke-width:2; stroke-opacity:0.1; fill:none\" points=\"\n",
       "  166.205,881.055 2352.76,881.055 \n",
       "  \"/>\n",
       "<polyline clip-path=\"url(#clip322)\" style=\"stroke:#000000; stroke-width:2; stroke-opacity:0.1; fill:none\" points=\"\n",
       "  166.205,597.306 2352.76,597.306 \n",
       "  \"/>\n",
       "<polyline clip-path=\"url(#clip322)\" style=\"stroke:#000000; stroke-width:2; stroke-opacity:0.1; fill:none\" points=\"\n",
       "  166.205,313.557 2352.76,313.557 \n",
       "  \"/>\n",
       "<polyline clip-path=\"url(#clip320)\" style=\"stroke:#000000; stroke-width:4; stroke-opacity:1; fill:none\" points=\"\n",
       "  166.205,1486.45 166.205,47.2441 \n",
       "  \"/>\n",
       "<polyline clip-path=\"url(#clip320)\" style=\"stroke:#000000; stroke-width:4; stroke-opacity:1; fill:none\" points=\"\n",
       "  166.205,1448.55 192.443,1448.55 \n",
       "  \"/>\n",
       "<polyline clip-path=\"url(#clip320)\" style=\"stroke:#000000; stroke-width:4; stroke-opacity:1; fill:none\" points=\"\n",
       "  166.205,1164.8 192.443,1164.8 \n",
       "  \"/>\n",
       "<polyline clip-path=\"url(#clip320)\" style=\"stroke:#000000; stroke-width:4; stroke-opacity:1; fill:none\" points=\"\n",
       "  166.205,881.055 192.443,881.055 \n",
       "  \"/>\n",
       "<polyline clip-path=\"url(#clip320)\" style=\"stroke:#000000; stroke-width:4; stroke-opacity:1; fill:none\" points=\"\n",
       "  166.205,597.306 192.443,597.306 \n",
       "  \"/>\n",
       "<polyline clip-path=\"url(#clip320)\" style=\"stroke:#000000; stroke-width:4; stroke-opacity:1; fill:none\" points=\"\n",
       "  166.205,313.557 192.443,313.557 \n",
       "  \"/>\n",
       "<path clip-path=\"url(#clip320)\" d=\"M 0 0 M118.26 1434.35 Q114.649 1434.35 112.82 1437.92 Q111.015 1441.46 111.015 1448.59 Q111.015 1455.69 112.82 1459.26 Q114.649 1462.8 118.26 1462.8 Q121.895 1462.8 123.7 1459.26 Q125.529 1455.69 125.529 1448.59 Q125.529 1441.46 123.7 1437.92 Q121.895 1434.35 118.26 1434.35 M118.26 1430.65 Q124.07 1430.65 127.126 1435.25 Q130.205 1439.84 130.205 1448.59 Q130.205 1457.31 127.126 1461.92 Q124.07 1466.5 118.26 1466.5 Q112.45 1466.5 109.371 1461.92 Q106.316 1457.31 106.316 1448.59 Q106.316 1439.84 109.371 1435.25 Q112.45 1430.65 118.26 1430.65 Z\" fill=\"#000000\" fill-rule=\"evenodd\" fill-opacity=\"1\" /><path clip-path=\"url(#clip320)\" d=\"M 0 0 M59.8578 1178.15 L76.1772 1178.15 L76.1772 1182.08 L54.2328 1182.08 L54.2328 1178.15 Q56.8949 1175.39 61.4782 1170.76 Q66.0846 1166.11 67.2652 1164.77 Q69.5105 1162.25 70.3902 1160.51 Q71.2929 1158.75 71.2929 1157.06 Q71.2929 1154.31 69.3485 1152.57 Q67.4272 1150.83 64.3254 1150.83 Q62.1263 1150.83 59.6726 1151.6 Q57.2421 1152.36 54.4643 1153.91 L54.4643 1149.19 Q57.2884 1148.06 59.7421 1147.48 Q62.1958 1146.9 64.2328 1146.9 Q69.6031 1146.9 72.7976 1149.58 Q75.992 1152.27 75.992 1156.76 Q75.992 1158.89 75.1818 1160.81 Q74.3948 1162.71 72.2883 1165.3 Q71.7096 1165.97 68.6078 1169.19 Q65.5059 1172.39 59.8578 1178.15 Z\" fill=\"#000000\" fill-rule=\"evenodd\" fill-opacity=\"1\" /><path clip-path=\"url(#clip320)\" d=\"M 0 0 M91.2465 1150.6 Q87.6354 1150.6 85.8068 1154.17 Q84.0012 1157.71 84.0012 1164.84 Q84.0012 1171.95 85.8068 1175.51 Q87.6354 1179.05 91.2465 1179.05 Q94.8808 1179.05 96.6863 1175.51 Q98.515 1171.95 98.515 1164.84 Q98.515 1157.71 96.6863 1154.17 Q94.8808 1150.6 91.2465 1150.6 M91.2465 1146.9 Q97.0567 1146.9 100.112 1151.51 Q103.191 1156.09 103.191 1164.84 Q103.191 1173.57 100.112 1178.17 Q97.0567 1182.76 91.2465 1182.76 Q85.4364 1182.76 82.3577 1178.17 Q79.3022 1173.57 79.3022 1164.84 Q79.3022 1156.09 82.3577 1151.51 Q85.4364 1146.9 91.2465 1146.9 Z\" fill=\"#000000\" fill-rule=\"evenodd\" fill-opacity=\"1\" /><path clip-path=\"url(#clip320)\" d=\"M 0 0 M118.26 1150.6 Q114.649 1150.6 112.82 1154.17 Q111.015 1157.71 111.015 1164.84 Q111.015 1171.95 112.82 1175.51 Q114.649 1179.05 118.26 1179.05 Q121.895 1179.05 123.7 1175.51 Q125.529 1171.95 125.529 1164.84 Q125.529 1157.71 123.7 1154.17 Q121.895 1150.6 118.26 1150.6 M118.26 1146.9 Q124.07 1146.9 127.126 1151.51 Q130.205 1156.09 130.205 1164.84 Q130.205 1173.57 127.126 1178.17 Q124.07 1182.76 118.26 1182.76 Q112.45 1182.76 109.371 1178.17 Q106.316 1173.57 106.316 1164.84 Q106.316 1156.09 109.371 1151.51 Q112.45 1146.9 118.26 1146.9 Z\" fill=\"#000000\" fill-rule=\"evenodd\" fill-opacity=\"1\" /><path clip-path=\"url(#clip320)\" d=\"M 0 0 M66.5939 867.849 L54.7884 886.298 L66.5939 886.298 L66.5939 867.849 M65.367 863.775 L71.2466 863.775 L71.2466 886.298 L76.1772 886.298 L76.1772 890.187 L71.2466 890.187 L71.2466 898.335 L66.5939 898.335 L66.5939 890.187 L50.9921 890.187 L50.9921 885.673 L65.367 863.775 Z\" fill=\"#000000\" fill-rule=\"evenodd\" fill-opacity=\"1\" /><path clip-path=\"url(#clip320)\" d=\"M 0 0 M91.2465 866.854 Q87.6354 866.854 85.8068 870.418 Q84.0012 873.96 84.0012 881.09 Q84.0012 888.196 85.8068 891.761 Q87.6354 895.303 91.2465 895.303 Q94.8808 895.303 96.6863 891.761 Q98.515 888.196 98.515 881.09 Q98.515 873.96 96.6863 870.418 Q94.8808 866.854 91.2465 866.854 M91.2465 863.15 Q97.0567 863.15 100.112 867.756 Q103.191 872.34 103.191 881.09 Q103.191 889.817 100.112 894.423 Q97.0567 899.006 91.2465 899.006 Q85.4364 899.006 82.3577 894.423 Q79.3022 889.817 79.3022 881.09 Q79.3022 872.34 82.3577 867.756 Q85.4364 863.15 91.2465 863.15 Z\" fill=\"#000000\" fill-rule=\"evenodd\" fill-opacity=\"1\" /><path clip-path=\"url(#clip320)\" d=\"M 0 0 M118.26 866.854 Q114.649 866.854 112.82 870.418 Q111.015 873.96 111.015 881.09 Q111.015 888.196 112.82 891.761 Q114.649 895.303 118.26 895.303 Q121.895 895.303 123.7 891.761 Q125.529 888.196 125.529 881.09 Q125.529 873.96 123.7 870.418 Q121.895 866.854 118.26 866.854 M118.26 863.15 Q124.07 863.15 127.126 867.756 Q130.205 872.34 130.205 881.09 Q130.205 889.817 127.126 894.423 Q124.07 899.006 118.26 899.006 Q112.45 899.006 109.371 894.423 Q106.316 889.817 106.316 881.09 Q106.316 872.34 109.371 867.756 Q112.45 863.15 118.26 863.15 Z\" fill=\"#000000\" fill-rule=\"evenodd\" fill-opacity=\"1\" /><path clip-path=\"url(#clip320)\" d=\"M 0 0 M64.6495 595.442 Q61.5013 595.442 59.6495 597.595 Q57.8208 599.748 57.8208 603.498 Q57.8208 607.225 59.6495 609.401 Q61.5013 611.554 64.6495 611.554 Q67.7976 611.554 69.6263 609.401 Q71.4781 607.225 71.4781 603.498 Q71.4781 599.748 69.6263 597.595 Q67.7976 595.442 64.6495 595.442 M73.9318 580.79 L73.9318 585.049 Q72.1726 584.216 70.367 583.776 Q68.5846 583.336 66.8254 583.336 Q62.1958 583.336 59.7421 586.461 Q57.3115 589.586 56.9643 595.905 Q58.33 593.892 60.3902 592.827 Q62.4504 591.739 64.9272 591.739 Q70.1355 591.739 73.1448 594.91 Q76.1772 598.058 76.1772 603.498 Q76.1772 608.822 73.029 612.04 Q69.8809 615.257 64.6495 615.257 Q58.6541 615.257 55.4828 610.674 Q52.3116 606.067 52.3116 597.341 Q52.3116 589.146 56.2004 584.285 Q60.0893 579.401 66.6402 579.401 Q68.3994 579.401 70.1818 579.748 Q71.9874 580.095 73.9318 580.79 Z\" fill=\"#000000\" fill-rule=\"evenodd\" fill-opacity=\"1\" /><path clip-path=\"url(#clip320)\" d=\"M 0 0 M91.2465 583.105 Q87.6354 583.105 85.8068 586.669 Q84.0012 590.211 84.0012 597.341 Q84.0012 604.447 85.8068 608.012 Q87.6354 611.554 91.2465 611.554 Q94.8808 611.554 96.6863 608.012 Q98.515 604.447 98.515 597.341 Q98.515 590.211 96.6863 586.669 Q94.8808 583.105 91.2465 583.105 M91.2465 579.401 Q97.0567 579.401 100.112 584.007 Q103.191 588.591 103.191 597.341 Q103.191 606.067 100.112 610.674 Q97.0567 615.257 91.2465 615.257 Q85.4364 615.257 82.3577 610.674 Q79.3022 606.067 79.3022 597.341 Q79.3022 588.591 82.3577 584.007 Q85.4364 579.401 91.2465 579.401 Z\" fill=\"#000000\" fill-rule=\"evenodd\" fill-opacity=\"1\" /><path clip-path=\"url(#clip320)\" d=\"M 0 0 M118.26 583.105 Q114.649 583.105 112.82 586.669 Q111.015 590.211 111.015 597.341 Q111.015 604.447 112.82 608.012 Q114.649 611.554 118.26 611.554 Q121.895 611.554 123.7 608.012 Q125.529 604.447 125.529 597.341 Q125.529 590.211 123.7 586.669 Q121.895 583.105 118.26 583.105 M118.26 579.401 Q124.07 579.401 127.126 584.007 Q130.205 588.591 130.205 597.341 Q130.205 606.067 127.126 610.674 Q124.07 615.257 118.26 615.257 Q112.45 615.257 109.371 610.674 Q106.316 606.067 106.316 597.341 Q106.316 588.591 109.371 584.007 Q112.45 579.401 118.26 579.401 Z\" fill=\"#000000\" fill-rule=\"evenodd\" fill-opacity=\"1\" /><path clip-path=\"url(#clip320)\" d=\"M 0 0 M64.3254 314.425 Q60.9921 314.425 59.0708 316.207 Q57.1726 317.99 57.1726 321.115 Q57.1726 324.24 59.0708 326.022 Q60.9921 327.804 64.3254 327.804 Q67.6587 327.804 69.58 326.022 Q71.5013 324.216 71.5013 321.115 Q71.5013 317.99 69.58 316.207 Q67.6819 314.425 64.3254 314.425 M59.6495 312.434 Q56.6402 311.693 54.9504 309.633 Q53.2838 307.573 53.2838 304.61 Q53.2838 300.467 56.2236 298.059 Q59.1865 295.652 64.3254 295.652 Q69.4874 295.652 72.4272 298.059 Q75.367 300.467 75.367 304.61 Q75.367 307.573 73.6772 309.633 Q72.0105 311.693 69.0244 312.434 Q72.404 313.221 74.279 315.513 Q76.1772 317.804 76.1772 321.115 Q76.1772 326.138 73.0985 328.823 Q70.0429 331.508 64.3254 331.508 Q58.6078 331.508 55.5291 328.823 Q52.4736 326.138 52.4736 321.115 Q52.4736 317.804 54.3717 315.513 Q56.2699 313.221 59.6495 312.434 M57.9365 305.05 Q57.9365 307.735 59.6032 309.24 Q61.293 310.744 64.3254 310.744 Q67.3346 310.744 69.0244 309.24 Q70.7374 307.735 70.7374 305.05 Q70.7374 302.365 69.0244 300.86 Q67.3346 299.355 64.3254 299.355 Q61.293 299.355 59.6032 300.86 Q57.9365 302.365 57.9365 305.05 Z\" fill=\"#000000\" fill-rule=\"evenodd\" fill-opacity=\"1\" /><path clip-path=\"url(#clip320)\" d=\"M 0 0 M91.2465 299.355 Q87.6354 299.355 85.8068 302.92 Q84.0012 306.462 84.0012 313.592 Q84.0012 320.698 85.8068 324.263 Q87.6354 327.804 91.2465 327.804 Q94.8808 327.804 96.6863 324.263 Q98.515 320.698 98.515 313.592 Q98.515 306.462 96.6863 302.92 Q94.8808 299.355 91.2465 299.355 M91.2465 295.652 Q97.0567 295.652 100.112 300.258 Q103.191 304.842 103.191 313.592 Q103.191 322.318 100.112 326.925 Q97.0567 331.508 91.2465 331.508 Q85.4364 331.508 82.3577 326.925 Q79.3022 322.318 79.3022 313.592 Q79.3022 304.842 82.3577 300.258 Q85.4364 295.652 91.2465 295.652 Z\" fill=\"#000000\" fill-rule=\"evenodd\" fill-opacity=\"1\" /><path clip-path=\"url(#clip320)\" d=\"M 0 0 M118.26 299.355 Q114.649 299.355 112.82 302.92 Q111.015 306.462 111.015 313.592 Q111.015 320.698 112.82 324.263 Q114.649 327.804 118.26 327.804 Q121.895 327.804 123.7 324.263 Q125.529 320.698 125.529 313.592 Q125.529 306.462 123.7 302.92 Q121.895 299.355 118.26 299.355 M118.26 295.652 Q124.07 295.652 127.126 300.258 Q130.205 304.842 130.205 313.592 Q130.205 322.318 127.126 326.925 Q124.07 331.508 118.26 331.508 Q112.45 331.508 109.371 326.925 Q106.316 322.318 106.316 313.592 Q106.316 304.842 109.371 300.258 Q112.45 295.652 118.26 295.652 Z\" fill=\"#000000\" fill-rule=\"evenodd\" fill-opacity=\"1\" /><polyline clip-path=\"url(#clip322)\" style=\"stroke:#009af9; stroke-width:4; stroke-opacity:1; fill:none\" points=\"\n",
       "  228.088,1445.72 299.219,1438.62 370.349,1428.69 441.48,1415.92 512.61,1400.32 583.741,1381.87 654.871,1360.59 726.002,1336.47 797.132,1309.52 868.263,1279.72 \n",
       "  939.393,1247.09 1010.52,1211.62 1081.65,1173.32 1152.78,1132.17 1223.92,1088.19 1295.05,1041.37 1366.18,991.717 1437.31,939.224 1508.44,883.892 1579.57,825.724 \n",
       "  1650.7,764.718 1721.83,700.874 1792.96,634.193 1864.09,564.675 1935.22,492.319 2006.35,417.125 2077.48,339.094 2148.61,258.226 2219.74,174.52 2290.87,87.9763 \n",
       "  \n",
       "  \"/>\n",
       "<path clip-path=\"url(#clip320)\" d=\"\n",
       "M1985.9 216.178 L2279.87 216.178 L2279.87 95.2176 L1985.9 95.2176  Z\n",
       "  \" fill=\"#ffffff\" fill-rule=\"evenodd\" fill-opacity=\"1\"/>\n",
       "<polyline clip-path=\"url(#clip320)\" style=\"stroke:#000000; stroke-width:4; stroke-opacity:1; fill:none\" points=\"\n",
       "  1985.9,216.178 2279.87,216.178 2279.87,95.2176 1985.9,95.2176 1985.9,216.178 \n",
       "  \"/>\n",
       "<polyline clip-path=\"url(#clip320)\" style=\"stroke:#009af9; stroke-width:4; stroke-opacity:1; fill:none\" points=\"\n",
       "  2010.2,155.698 2155.97,155.698 \n",
       "  \"/>\n",
       "<path clip-path=\"url(#clip320)\" d=\"M 0 0 M2194.11 175.385 Q2192.3 180.015 2190.59 181.427 Q2188.87 182.839 2186 182.839 L2182.6 182.839 L2182.6 179.274 L2185.1 179.274 Q2186.86 179.274 2187.83 178.44 Q2188.8 177.607 2189.98 174.505 L2190.75 172.561 L2180.26 147.052 L2184.78 147.052 L2192.88 167.329 L2200.98 147.052 L2205.49 147.052 L2194.11 175.385 Z\" fill=\"#000000\" fill-rule=\"evenodd\" fill-opacity=\"1\" /><path clip-path=\"url(#clip320)\" d=\"M 0 0 M2211.37 169.042 L2219.01 169.042 L2219.01 142.677 L2210.7 144.343 L2210.7 140.084 L2218.97 138.418 L2223.64 138.418 L2223.64 169.042 L2231.28 169.042 L2231.28 172.978 L2211.37 172.978 L2211.37 169.042 Z\" fill=\"#000000\" fill-rule=\"evenodd\" fill-opacity=\"1\" /></svg>\n"
      ]
     },
     "execution_count": 126,
     "metadata": {},
     "output_type": "execute_result"
    }
   ],
   "source": [
    "plot(x,y)"
   ]
  },
  {
   "cell_type": "code",
   "execution_count": 77,
   "id": "fe214506",
   "metadata": {},
   "outputs": [
    {
     "data": {
      "text/plain": [
       "15-element Array{Int64,1}:\n",
       "  2\n",
       "  4\n",
       "  6\n",
       "  8\n",
       " 10\n",
       " 12\n",
       " 14\n",
       " 16\n",
       " 18\n",
       " 20\n",
       " 22\n",
       " 24\n",
       " 26\n",
       " 28\n",
       " 30"
      ]
     },
     "execution_count": 77,
     "metadata": {},
     "output_type": "execute_result"
    }
   ],
   "source": [
    "filter( x -> x%2 == 0, 1:30)"
   ]
  },
  {
   "cell_type": "markdown",
   "id": "5dc14f98",
   "metadata": {},
   "source": [
    "# pythonic class declaration in julia\n",
    "Idea is that class's attributes and methods are divided into struct and function.   \n",
    "Then, the function should only accept that struct.\n",
    "Function can be differentiated using multiple dispatch.    \n",
    "https://qiita.com/cometscome_phys/items/0cc0ab0b43e1bb48a1ea"
   ]
  },
  {
   "cell_type": "code",
   "execution_count": 36,
   "id": "c82b5ec9",
   "metadata": {},
   "outputs": [
    {
     "data": {
      "text/plain": [
       "Core.nothing"
      ]
     },
     "execution_count": 36,
     "metadata": {},
     "output_type": "execute_result"
    }
   ],
   "source": [
    "\"\"\"Python class\n",
    "class MyClass(object):\n",
    "\n",
    "    def __init__(self, foo, bar):\n",
    "        self.foo = foo\n",
    "        self.bar = bar\n",
    "\n",
    "    def do_something(self):\n",
    "        return self.foo + self.bar\n",
    "\n",
    "    def do_something_else(self, num):\n",
    "        return num * self.bar\n",
    "\n",
    "\n",
    "my_class = MyClass(1, 10)\n",
    "my_class.do_something()  # returns 11\n",
    "my_class.do_something_else(10)  # returns 100\n",
    "\"\"\"\n",
    "nothing"
   ]
  },
  {
   "cell_type": "code",
   "execution_count": 33,
   "id": "5cf56f6d",
   "metadata": {},
   "outputs": [
    {
     "name": "stdout",
     "output_type": "stream",
     "text": [
      "11.0\n",
      "100.0\n"
     ]
    }
   ],
   "source": [
    "struct State\n",
    "    foo::Int\n",
    "    bar::Float64\n",
    "end\n",
    "\n",
    "function do_something(s::State)\n",
    "    s.foo + s.bar\n",
    "end\n",
    "\n",
    "function do_somethingelse(s::State, n::Int)\n",
    "    n * s.bar\n",
    "end\n",
    "\n",
    "s = State(1, 10)\n",
    "do_something(s) |> println\n",
    "do_somethingelse(s, 10) |> println"
   ]
  },
  {
   "cell_type": "code",
   "execution_count": 35,
   "id": "d058578f",
   "metadata": {},
   "outputs": [
    {
     "ename": "MethodError",
     "evalue": "\u001b[91mMethodError: no method matching do_something(::Int64)\u001b[39m\n\u001b[91m\u001b[0mClosest candidates are:\u001b[39m\n\u001b[91m\u001b[0m  do_something(\u001b[91m::State\u001b[39m) at In[33]:7\u001b[39m",
     "output_type": "error",
     "traceback": [
      "\u001b[91mMethodError: no method matching do_something(::Int64)\u001b[39m\n\u001b[91m\u001b[0mClosest candidates are:\u001b[39m\n\u001b[91m\u001b[0m  do_something(\u001b[91m::State\u001b[39m) at In[33]:7\u001b[39m",
      "",
      "Stacktrace:",
      " [1] top-level scope at In[35]:1"
     ]
    }
   ],
   "source": [
    "# error occurs\n",
    "do_something(2)"
   ]
  },
  {
   "cell_type": "code",
   "execution_count": 135,
   "id": "c9fbf068",
   "metadata": {},
   "outputs": [
    {
     "data": {
      "text/plain": [
       "customlog (generic function with 2 methods)"
      ]
     },
     "execution_count": 135,
     "metadata": {},
     "output_type": "execute_result"
    }
   ],
   "source": [
    "function customlog(x ::Int)\n",
    "    log(ℯ, x)\n",
    "end\n",
    "\n",
    "function customlog(x ::Int, y ::Int)\n",
    "    log(x,y)\n",
    "end"
   ]
  },
  {
   "cell_type": "code",
   "execution_count": 137,
   "id": "9acf35e7",
   "metadata": {},
   "outputs": [
    {
     "name": "stdout",
     "output_type": "stream",
     "text": [
      "2.302585092994046\n",
      "2.0\n"
     ]
    }
   ],
   "source": [
    "customlog(10) |> println\n",
    "customlog(10,100) |> println"
   ]
  }
 ],
 "metadata": {
  "kernelspec": {
   "display_name": "Julia 1.4.1",
   "language": "julia",
   "name": "julia-1.4"
  },
  "language_info": {
   "file_extension": ".jl",
   "mimetype": "application/julia",
   "name": "julia",
   "version": "1.4.1"
  }
 },
 "nbformat": 4,
 "nbformat_minor": 5
}
