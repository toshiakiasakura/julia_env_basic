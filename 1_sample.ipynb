{
 "cells": [
  {
   "cell_type": "code",
   "execution_count": 1,
   "id": "ed273434",
   "metadata": {},
   "outputs": [],
   "source": [
    "# import Pkg; Pkg.add(\"DataFrames\")"
   ]
  },
  {
   "cell_type": "code",
   "execution_count": 2,
   "id": "c25fe3f1",
   "metadata": {},
   "outputs": [],
   "source": [
    "using Pkg"
   ]
  },
  {
   "cell_type": "code",
   "execution_count": 3,
   "id": "b090262b",
   "metadata": {},
   "outputs": [
    {
     "data": {
      "text/plain": [
       "\"id\""
      ]
     },
     "execution_count": 3,
     "metadata": {},
     "output_type": "execute_result"
    }
   ],
   "source": [
    "a = \"id\""
   ]
  },
  {
   "cell_type": "markdown",
   "id": "4e2271a5",
   "metadata": {},
   "source": [
    "# class "
   ]
  },
  {
   "cell_type": "code",
   "execution_count": 4,
   "id": "4c594158",
   "metadata": {},
   "outputs": [],
   "source": [
    "mutable struct Point\n",
    "    x::Float64\n",
    "    y::Float64\n",
    "end"
   ]
  },
  {
   "cell_type": "code",
   "execution_count": 5,
   "id": "4635120f",
   "metadata": {},
   "outputs": [
    {
     "data": {
      "text/plain": [
       "Point(1.0, 2.0)"
      ]
     },
     "execution_count": 5,
     "metadata": {},
     "output_type": "execute_result"
    }
   ],
   "source": [
    "point = Point(1,2)\n",
    "point.x = 1\n",
    "point"
   ]
  },
  {
   "cell_type": "code",
   "execution_count": 6,
   "id": "1b76aa64",
   "metadata": {},
   "outputs": [
    {
     "data": {
      "text/plain": [
       "1"
      ]
     },
     "execution_count": 6,
     "metadata": {},
     "output_type": "execute_result"
    }
   ],
   "source": [
    "d = Dict{Int, Int}()\n",
    "d[4] = 1"
   ]
  },
  {
   "cell_type": "markdown",
   "id": "71692765",
   "metadata": {},
   "source": [
    "# DataFrames"
   ]
  },
  {
   "cell_type": "code",
   "execution_count": 7,
   "id": "e13aaa0a",
   "metadata": {},
   "outputs": [
    {
     "data": {
      "text/plain": [
       "foo (generic function with 1 method)"
      ]
     },
     "execution_count": 7,
     "metadata": {},
     "output_type": "execute_result"
    }
   ],
   "source": [
    "#download(\"https://bit.ly/32Fb6AV\", \"personal_info.csv\")\n",
    "\n",
    "using CSV, DataFrames;\n",
    "df = DataFrame(CSV.File(\"personal_info.csv\"), )\n",
    "function foo()\n",
    "end"
   ]
  },
  {
   "cell_type": "code",
   "execution_count": 18,
   "id": "ea2baeb2",
   "metadata": {},
   "outputs": [
    {
     "data": {
      "text/plain": [
       "4-element Array{String,1}:\n",
       " \"id\"\n",
       " \"gender\"\n",
       " \"age\"\n",
       " \"prefecture\""
      ]
     },
     "execution_count": 18,
     "metadata": {},
     "output_type": "execute_result"
    }
   ],
   "source": [
    "a = \"id\"\n",
    "df.\"id\"\n",
    "names(df)"
   ]
  },
  {
   "cell_type": "code",
   "execution_count": 9,
   "id": "d797dbcd",
   "metadata": {},
   "outputs": [
    {
     "data": {
      "text/html": [
       "<table class=\"data-frame\"><thead><tr><th></th><th>id</th><th>gender</th></tr><tr><th></th><th>Int64</th><th>String</th></tr></thead><tbody><p>2 rows × 2 columns</p><tr><th>1</th><td>2</td><td>male</td></tr><tr><th>2</th><td>3</td><td>female</td></tr></tbody></table>"
      ],
      "text/latex": [
       "\\begin{tabular}{r|cc}\n",
       "\t& id & gender\\\\\n",
       "\t\\hline\n",
       "\t& Int64 & String\\\\\n",
       "\t\\hline\n",
       "\t1 & 2 & male \\\\\n",
       "\t2 & 3 & female \\\\\n",
       "\\end{tabular}\n"
      ],
      "text/plain": [
       "\u001b[1m2×2 DataFrame\u001b[0m\n",
       "\u001b[1m Row \u001b[0m│\u001b[1m id    \u001b[0m\u001b[1m gender \u001b[0m\n",
       "\u001b[1m     \u001b[0m│\u001b[90m Int64 \u001b[0m\u001b[90m String \u001b[0m\n",
       "─────┼───────────────\n",
       "   1 │     2  male\n",
       "   2 │     3  female"
      ]
     },
     "execution_count": 9,
     "metadata": {},
     "output_type": "execute_result"
    }
   ],
   "source": [
    "df[2:3,1:2]"
   ]
  },
  {
   "cell_type": "markdown",
   "id": "594574da",
   "metadata": {},
   "source": [
    "## equivalent to dir in python"
   ]
  },
  {
   "cell_type": "code",
   "execution_count": 10,
   "id": "3446b995",
   "metadata": {},
   "outputs": [
    {
     "name": "stdout",
     "output_type": "stream",
     "text": [
      "[:AbstractDataFrame, :All, :AsTable, :Between, :ByRow, :Cols, :DataFrame, :DataFrameRow, :DataFrames, :GroupedDataFrame, :InvertedIndex, :InvertedIndices, :Missing, :MissingException, :Missings, :Not, :PrettyTables, :SubDataFrame, :Tables, :aggregate, :allowmissing, :allowmissing!, :antijoin, :by, :coalesce, :columnindex, :combine, :completecases, :crossjoin, :describe, :disallowmissing, :disallowmissing!, :dropmissing, :dropmissing!, :flatten, :groupby, :groupcols, :groupindices, :innerjoin, :insertcols!, :ismissing, :leftjoin, :levels, :mapcols, :mapcols!, :missing, :missings, :ncol, :nonmissingtype, :nonunique, :nrow, :order, :outerjoin, :passmissing, :rename, :rename!, :repeat!, :rightjoin, :rownumber, :select, :select!, :semijoin, :skipmissings, :stack, :subset, :subset!, :transform, :transform!, :unique!, :unstack, :valuecols]\n"
     ]
    }
   ],
   "source": [
    "names(DataFrames) |> println"
   ]
  },
  {
   "cell_type": "markdown",
   "id": "2cd5e757",
   "metadata": {},
   "source": [
    "## string interpolation"
   ]
  },
  {
   "cell_type": "code",
   "execution_count": 11,
   "id": "241eed9a",
   "metadata": {},
   "outputs": [
    {
     "data": {
      "text/plain": [
       "\"test 1965\""
      ]
     },
     "execution_count": 11,
     "metadata": {},
     "output_type": "execute_result"
    }
   ],
   "source": [
    "s = \"test\"\n",
    "num = 1965\n",
    "ss = \"$s $num\""
   ]
  },
  {
   "cell_type": "markdown",
   "id": "55817cbe",
   "metadata": {},
   "source": [
    "# Plotting"
   ]
  },
  {
   "cell_type": "code",
   "execution_count": 12,
   "id": "4c2573e8",
   "metadata": {},
   "outputs": [],
   "source": [
    "using Plots"
   ]
  },
  {
   "cell_type": "code",
   "execution_count": 13,
   "id": "60856a85",
   "metadata": {},
   "outputs": [
    {
     "ename": "InterruptException",
     "evalue": "\u001b[91mInterruptException:\u001b[39m",
     "output_type": "error",
     "traceback": [
      "\u001b[91mInterruptException:\u001b[39m",
      "",
      "Stacktrace:",
      " [1] get_clims(::Plots.Subplot{Plots.GRBackend}, ::Plots.Series) at /home/toshiaki/.julia/packages/Plots/uCh2y/src/utils.jl:421",
      " [2] gr_add_series(::Plots.Subplot{Plots.GRBackend}, ::Plots.Series) at /home/toshiaki/.julia/packages/Plots/uCh2y/src/backends/gr.jl:1504",
      " [3] gr_display(::Plots.Subplot{Plots.GRBackend}, ::Measures.Length{:mm,Float64}, ::Measures.Length{:mm,Float64}, ::Array{Float64,1}) at /home/toshiaki/.julia/packages/Plots/uCh2y/src/backends/gr.jl:891",
      " [4] gr_display(::Plots.Plot{Plots.GRBackend}, ::String) at /home/toshiaki/.julia/packages/Plots/uCh2y/src/backends/gr.jl:596",
      " [5] _show(::Base.GenericIOBuffer{Array{UInt8,1}}, ::MIME{Symbol(\"image/svg+xml\")}, ::Plots.Plot{Plots.GRBackend}) at /home/toshiaki/.julia/packages/Plots/uCh2y/src/backends/gr.jl:1776",
      " [6] show(::Base.GenericIOBuffer{Array{UInt8,1}}, ::MIME{Symbol(\"image/svg+xml\")}, ::Plots.Plot{Plots.GRBackend}) at /home/toshiaki/.julia/packages/Plots/uCh2y/src/output.jl:215",
      " [7] sprint(::Function, ::MIME{Symbol(\"image/svg+xml\")}, ::Vararg{Any,N} where N; context::Nothing, sizehint::Int64) at ./strings/io.jl:105",
      " [8] sprint at ./strings/io.jl:101 [inlined]",
      " [9] _ijulia_display_dict(::Plots.Plot{Plots.GRBackend}) at /home/toshiaki/.julia/packages/Plots/uCh2y/src/ijulia.jl:53",
      " [10] display_dict(::Plots.Plot{Plots.GRBackend}) at /home/toshiaki/.julia/packages/Plots/uCh2y/src/init.jl:76",
      " [11] #invokelatest#1 at ./essentials.jl:712 [inlined]",
      " [12] invokelatest at ./essentials.jl:711 [inlined]",
      " [13] execute_request(::ZMQ.Socket, ::IJulia.Msg) at /home/toshiaki/.julia/packages/IJulia/e8kqU/src/execute_request.jl:112",
      " [14] #invokelatest#1 at ./essentials.jl:712 [inlined]",
      " [15] invokelatest at ./essentials.jl:711 [inlined]",
      " [16] eventloop(::ZMQ.Socket) at /home/toshiaki/.julia/packages/IJulia/e8kqU/src/eventloop.jl:8",
      " [17] (::IJulia.var\"#15#18\")() at ./task.jl:358"
     ]
    }
   ],
   "source": [
    "x = 1:10; y = rand(10)\n",
    "plot(x,y)"
   ]
  },
  {
   "cell_type": "code",
   "execution_count": 14,
   "id": "13355276",
   "metadata": {},
   "outputs": [
    {
     "ename": "InterruptException",
     "evalue": "\u001b[91mInterruptException:\u001b[39m",
     "output_type": "error",
     "traceback": [
      "\u001b[91mInterruptException:\u001b[39m",
      "",
      "Stacktrace:",
      " [1] macro expansion at /home/toshiaki/.julia/packages/Plots/uCh2y/src/recipes.jl:542 [inlined]",
      " [2] apply_recipe(::AbstractDict{Symbol,Any}, ::Type{Val{:barbins}}, ::Any, ::Any, ::Any) at /home/toshiaki/.julia/packages/RecipesBase/92zOw/src/RecipesBase.jl:282",
      " [3] _process_seriesrecipe(::Plots.Plot{Plots.GRBackend}, ::RecipesPipeline.DefaultsDict) at /home/toshiaki/.julia/packages/RecipesPipeline/tkFmN/src/series_recipe.jl:48",
      " [4] _process_seriesrecipe(::Plots.Plot{Plots.GRBackend}, ::RecipesPipeline.DefaultsDict) at /home/toshiaki/.julia/packages/RecipesPipeline/tkFmN/src/series_recipe.jl:58 (repeats 2 times)",
      " [5] _process_seriesrecipes!(::Plots.Plot{Plots.GRBackend}, ::Array{Dict{Symbol,Any},1}) at /home/toshiaki/.julia/packages/RecipesPipeline/tkFmN/src/series_recipe.jl:25",
      " [6] recipe_pipeline!(::Plots.Plot{Plots.GRBackend}, ::Dict{Symbol,Any}, ::Tuple{Array{Int64,1}}) at /home/toshiaki/.julia/packages/RecipesPipeline/tkFmN/src/RecipesPipeline.jl:96",
      " [7] _plot!(::Plots.Plot{Plots.GRBackend}, ::Dict{Symbol,Any}, ::Tuple{Array{Int64,1}}) at /home/toshiaki/.julia/packages/Plots/uCh2y/src/plot.jl:167",
      " [8] plot(::Array{Int64,1}; kw::Base.Iterators.Pairs{Symbol,Any,Tuple{Symbol,Symbol},NamedTuple{(:bins, :seriestype),Tuple{Array{Int64,1},Symbol}}}) at /home/toshiaki/.julia/packages/Plots/uCh2y/src/plot.jl:57",
      " [9] #histogram#355 at /home/toshiaki/.julia/packages/RecipesBase/92zOw/src/RecipesBase.jl:403 [inlined]",
      " [10] top-level scope at In[14]:2"
     ]
    }
   ],
   "source": [
    "x = [1,2,5,6]\n",
    "histogram(x, bins=[0,1,2,3,4,5,6,7] )"
   ]
  },
  {
   "cell_type": "code",
   "execution_count": 15,
   "id": "0a22c436",
   "metadata": {},
   "outputs": [
    {
     "data": {
      "image/svg+xml": [
       "<?xml version=\"1.0\" encoding=\"utf-8\"?>\n",
       "<svg xmlns=\"http://www.w3.org/2000/svg\" xmlns:xlink=\"http://www.w3.org/1999/xlink\" width=\"400\" height=\"400\" viewBox=\"0 0 1600 1600\">\n",
       "<defs>\n",
       "  <clipPath id=\"clip740\">\n",
       "    <rect x=\"0\" y=\"0\" width=\"1600\" height=\"1600\"/>\n",
       "  </clipPath>\n",
       "</defs>\n",
       "<path clip-path=\"url(#clip740)\" d=\"\n",
       "M0 1600 L1600 1600 L1600 0 L0 0  Z\n",
       "  \" fill=\"#ffffff\" fill-rule=\"evenodd\" fill-opacity=\"1\"/>\n",
       "<defs>\n",
       "  <clipPath id=\"clip741\">\n",
       "    <rect x=\"320\" y=\"160\" width=\"1121\" height=\"1121\"/>\n",
       "  </clipPath>\n",
       "</defs>\n",
       "<path clip-path=\"url(#clip740)\" d=\"\n",
       "M131.191 1469.17 L1552.76 1469.17 L1552.76 47.2441 L131.191 47.2441  Z\n",
       "  \" fill=\"#ffffff\" fill-rule=\"evenodd\" fill-opacity=\"1\"/>\n",
       "<defs>\n",
       "  <clipPath id=\"clip742\">\n",
       "    <rect x=\"131\" y=\"47\" width=\"1423\" height=\"1423\"/>\n",
       "  </clipPath>\n",
       "</defs>\n",
       "<polyline clip-path=\"url(#clip742)\" style=\"stroke:#000000; stroke-width:2; stroke-opacity:0.1; fill:none\" points=\"\n",
       "  209.38,1469.17 209.38,47.2441 \n",
       "  \"/>\n",
       "<polyline clip-path=\"url(#clip742)\" style=\"stroke:#000000; stroke-width:2; stroke-opacity:0.1; fill:none\" points=\"\n",
       "  420.244,1469.17 420.244,47.2441 \n",
       "  \"/>\n",
       "<polyline clip-path=\"url(#clip742)\" style=\"stroke:#000000; stroke-width:2; stroke-opacity:0.1; fill:none\" points=\"\n",
       "  631.109,1469.17 631.109,47.2441 \n",
       "  \"/>\n",
       "<polyline clip-path=\"url(#clip742)\" style=\"stroke:#000000; stroke-width:2; stroke-opacity:0.1; fill:none\" points=\"\n",
       "  841.973,1469.17 841.973,47.2441 \n",
       "  \"/>\n",
       "<polyline clip-path=\"url(#clip742)\" style=\"stroke:#000000; stroke-width:2; stroke-opacity:0.1; fill:none\" points=\"\n",
       "  1052.84,1469.17 1052.84,47.2441 \n",
       "  \"/>\n",
       "<polyline clip-path=\"url(#clip742)\" style=\"stroke:#000000; stroke-width:2; stroke-opacity:0.1; fill:none\" points=\"\n",
       "  1263.7,1469.17 1263.7,47.2441 \n",
       "  \"/>\n",
       "<polyline clip-path=\"url(#clip742)\" style=\"stroke:#000000; stroke-width:2; stroke-opacity:0.1; fill:none\" points=\"\n",
       "  1474.57,1469.17 1474.57,47.2441 \n",
       "  \"/>\n",
       "<polyline clip-path=\"url(#clip740)\" style=\"stroke:#000000; stroke-width:4; stroke-opacity:1; fill:none\" points=\"\n",
       "  131.191,1469.17 1552.76,1469.17 \n",
       "  \"/>\n",
       "<polyline clip-path=\"url(#clip740)\" style=\"stroke:#000000; stroke-width:4; stroke-opacity:1; fill:none\" points=\"\n",
       "  209.38,1469.17 209.38,1452.1 \n",
       "  \"/>\n",
       "<polyline clip-path=\"url(#clip740)\" style=\"stroke:#000000; stroke-width:4; stroke-opacity:1; fill:none\" points=\"\n",
       "  420.244,1469.17 420.244,1452.1 \n",
       "  \"/>\n",
       "<polyline clip-path=\"url(#clip740)\" style=\"stroke:#000000; stroke-width:4; stroke-opacity:1; fill:none\" points=\"\n",
       "  631.109,1469.17 631.109,1452.1 \n",
       "  \"/>\n",
       "<polyline clip-path=\"url(#clip740)\" style=\"stroke:#000000; stroke-width:4; stroke-opacity:1; fill:none\" points=\"\n",
       "  841.973,1469.17 841.973,1452.1 \n",
       "  \"/>\n",
       "<polyline clip-path=\"url(#clip740)\" style=\"stroke:#000000; stroke-width:4; stroke-opacity:1; fill:none\" points=\"\n",
       "  1052.84,1469.17 1052.84,1452.1 \n",
       "  \"/>\n",
       "<polyline clip-path=\"url(#clip740)\" style=\"stroke:#000000; stroke-width:4; stroke-opacity:1; fill:none\" points=\"\n",
       "  1263.7,1469.17 1263.7,1452.1 \n",
       "  \"/>\n",
       "<polyline clip-path=\"url(#clip740)\" style=\"stroke:#000000; stroke-width:4; stroke-opacity:1; fill:none\" points=\"\n",
       "  1474.57,1469.17 1474.57,1452.1 \n",
       "  \"/>\n",
       "<path clip-path=\"url(#clip740)\" d=\"M 0 0 M209.38 1491.96 Q205.768 1491.96 203.94 1495.52 Q202.134 1499.07 202.134 1506.19 Q202.134 1513.3 203.94 1516.87 Q205.768 1520.41 209.38 1520.41 Q213.014 1520.41 214.819 1516.87 Q216.648 1513.3 216.648 1506.19 Q216.648 1499.07 214.819 1495.52 Q213.014 1491.96 209.38 1491.96 M209.38 1488.25 Q215.19 1488.25 218.245 1492.86 Q221.324 1497.44 221.324 1506.19 Q221.324 1514.92 218.245 1519.53 Q215.19 1524.11 209.38 1524.11 Q203.569 1524.11 200.491 1519.53 Q197.435 1514.92 197.435 1506.19 Q197.435 1497.44 200.491 1492.86 Q203.569 1488.25 209.38 1488.25 Z\" fill=\"#000000\" fill-rule=\"evenodd\" fill-opacity=\"1\" /><path clip-path=\"url(#clip740)\" d=\"M 0 0 M397.119 1519.5 L404.758 1519.5 L404.758 1493.14 L396.448 1494.81 L396.448 1490.55 L404.712 1488.88 L409.388 1488.88 L409.388 1519.5 L417.027 1519.5 L417.027 1523.44 L397.119 1523.44 L397.119 1519.5 Z\" fill=\"#000000\" fill-rule=\"evenodd\" fill-opacity=\"1\" /><path clip-path=\"url(#clip740)\" d=\"M 0 0 M432.096 1491.96 Q428.485 1491.96 426.656 1495.52 Q424.851 1499.07 424.851 1506.19 Q424.851 1513.3 426.656 1516.87 Q428.485 1520.41 432.096 1520.41 Q435.73 1520.41 437.536 1516.87 Q439.364 1513.3 439.364 1506.19 Q439.364 1499.07 437.536 1495.52 Q435.73 1491.96 432.096 1491.96 M432.096 1488.25 Q437.906 1488.25 440.962 1492.86 Q444.04 1497.44 444.04 1506.19 Q444.04 1514.92 440.962 1519.53 Q437.906 1524.11 432.096 1524.11 Q426.286 1524.11 423.207 1519.53 Q420.152 1514.92 420.152 1506.19 Q420.152 1497.44 423.207 1492.86 Q426.286 1488.25 432.096 1488.25 Z\" fill=\"#000000\" fill-rule=\"evenodd\" fill-opacity=\"1\" /><path clip-path=\"url(#clip740)\" d=\"M 0 0 M612.255 1519.5 L628.574 1519.5 L628.574 1523.44 L606.63 1523.44 L606.63 1519.5 Q609.292 1516.75 613.875 1512.12 Q618.482 1507.47 619.662 1506.13 Q621.907 1503.6 622.787 1501.87 Q623.69 1500.11 623.69 1498.42 Q623.69 1495.66 621.745 1493.93 Q619.824 1492.19 616.722 1492.19 Q614.523 1492.19 612.07 1492.95 Q609.639 1493.72 606.861 1495.27 L606.861 1490.55 Q609.685 1489.41 612.139 1488.83 Q614.593 1488.25 616.63 1488.25 Q622 1488.25 625.194 1490.94 Q628.389 1493.63 628.389 1498.12 Q628.389 1500.25 627.579 1502.17 Q626.792 1504.06 624.685 1506.66 Q624.107 1507.33 621.005 1510.55 Q617.903 1513.74 612.255 1519.5 Z\" fill=\"#000000\" fill-rule=\"evenodd\" fill-opacity=\"1\" /><path clip-path=\"url(#clip740)\" d=\"M 0 0 M643.643 1491.96 Q640.032 1491.96 638.204 1495.52 Q636.398 1499.07 636.398 1506.19 Q636.398 1513.3 638.204 1516.87 Q640.032 1520.41 643.643 1520.41 Q647.278 1520.41 649.083 1516.87 Q650.912 1513.3 650.912 1506.19 Q650.912 1499.07 649.083 1495.52 Q647.278 1491.96 643.643 1491.96 M643.643 1488.25 Q649.454 1488.25 652.509 1492.86 Q655.588 1497.44 655.588 1506.19 Q655.588 1514.92 652.509 1519.53 Q649.454 1524.11 643.643 1524.11 Q637.833 1524.11 634.755 1519.53 Q631.699 1514.92 631.699 1506.19 Q631.699 1497.44 634.755 1492.86 Q637.833 1488.25 643.643 1488.25 Z\" fill=\"#000000\" fill-rule=\"evenodd\" fill-opacity=\"1\" /><path clip-path=\"url(#clip740)\" d=\"M 0 0 M832.714 1504.81 Q836.071 1505.52 837.946 1507.79 Q839.844 1510.06 839.844 1513.39 Q839.844 1518.51 836.325 1521.31 Q832.807 1524.11 826.325 1524.11 Q824.149 1524.11 821.835 1523.67 Q819.543 1523.25 817.089 1522.4 L817.089 1517.88 Q819.034 1519.02 821.349 1519.6 Q823.663 1520.18 826.186 1520.18 Q830.585 1520.18 832.876 1518.44 Q835.191 1516.7 835.191 1513.39 Q835.191 1510.34 833.038 1508.63 Q830.909 1506.89 827.089 1506.89 L823.061 1506.89 L823.061 1503.05 L827.274 1503.05 Q830.723 1503.05 832.552 1501.68 Q834.381 1500.29 834.381 1497.7 Q834.381 1495.04 832.483 1493.63 Q830.608 1492.19 827.089 1492.19 Q825.168 1492.19 822.969 1492.61 Q820.77 1493.02 818.131 1493.9 L818.131 1489.74 Q820.793 1489 823.108 1488.63 Q825.446 1488.25 827.506 1488.25 Q832.83 1488.25 835.932 1490.69 Q839.034 1493.09 839.034 1497.21 Q839.034 1500.08 837.39 1502.07 Q835.747 1504.04 832.714 1504.81 Z\" fill=\"#000000\" fill-rule=\"evenodd\" fill-opacity=\"1\" /><path clip-path=\"url(#clip740)\" d=\"M 0 0 M854.913 1491.96 Q851.302 1491.96 849.473 1495.52 Q847.668 1499.07 847.668 1506.19 Q847.668 1513.3 849.473 1516.87 Q851.302 1520.41 854.913 1520.41 Q858.547 1520.41 860.353 1516.87 Q862.182 1513.3 862.182 1506.19 Q862.182 1499.07 860.353 1495.52 Q858.547 1491.96 854.913 1491.96 M854.913 1488.25 Q860.723 1488.25 863.779 1492.86 Q866.858 1497.44 866.858 1506.19 Q866.858 1514.92 863.779 1519.53 Q860.723 1524.11 854.913 1524.11 Q849.103 1524.11 846.024 1519.53 Q842.969 1514.92 842.969 1506.19 Q842.969 1497.44 846.024 1492.86 Q849.103 1488.25 854.913 1488.25 Z\" fill=\"#000000\" fill-rule=\"evenodd\" fill-opacity=\"1\" /><path clip-path=\"url(#clip740)\" d=\"M 0 0 M1042.34 1492.95 L1030.53 1511.4 L1042.34 1511.4 L1042.34 1492.95 M1041.11 1488.88 L1046.99 1488.88 L1046.99 1511.4 L1051.92 1511.4 L1051.92 1515.29 L1046.99 1515.29 L1046.99 1523.44 L1042.34 1523.44 L1042.34 1515.29 L1026.74 1515.29 L1026.74 1510.78 L1041.11 1488.88 Z\" fill=\"#000000\" fill-rule=\"evenodd\" fill-opacity=\"1\" /><path clip-path=\"url(#clip740)\" d=\"M 0 0 M1066.99 1491.96 Q1063.38 1491.96 1061.55 1495.52 Q1059.75 1499.07 1059.75 1506.19 Q1059.75 1513.3 1061.55 1516.87 Q1063.38 1520.41 1066.99 1520.41 Q1070.63 1520.41 1072.43 1516.87 Q1074.26 1513.3 1074.26 1506.19 Q1074.26 1499.07 1072.43 1495.52 Q1070.63 1491.96 1066.99 1491.96 M1066.99 1488.25 Q1072.8 1488.25 1075.86 1492.86 Q1078.94 1497.44 1078.94 1506.19 Q1078.94 1514.92 1075.86 1519.53 Q1072.8 1524.11 1066.99 1524.11 Q1061.18 1524.11 1058.1 1519.53 Q1055.05 1514.92 1055.05 1506.19 Q1055.05 1497.44 1058.1 1492.86 Q1061.18 1488.25 1066.99 1488.25 Z\" fill=\"#000000\" fill-rule=\"evenodd\" fill-opacity=\"1\" /><path clip-path=\"url(#clip740)\" d=\"M 0 0 M1240.47 1488.88 L1258.83 1488.88 L1258.83 1492.82 L1244.76 1492.82 L1244.76 1501.29 Q1245.77 1500.94 1246.79 1500.78 Q1247.81 1500.59 1248.83 1500.59 Q1254.62 1500.59 1258 1503.76 Q1261.38 1506.94 1261.38 1512.35 Q1261.38 1517.93 1257.9 1521.03 Q1254.43 1524.11 1248.11 1524.11 Q1245.94 1524.11 1243.67 1523.74 Q1241.42 1523.37 1239.02 1522.63 L1239.02 1517.93 Q1241.1 1519.06 1243.32 1519.62 Q1245.54 1520.18 1248.02 1520.18 Q1252.02 1520.18 1254.36 1518.07 Q1256.7 1515.96 1256.7 1512.35 Q1256.7 1508.74 1254.36 1506.63 Q1252.02 1504.53 1248.02 1504.53 Q1246.14 1504.53 1244.27 1504.94 Q1242.42 1505.36 1240.47 1506.24 L1240.47 1488.88 Z\" fill=\"#000000\" fill-rule=\"evenodd\" fill-opacity=\"1\" /><path clip-path=\"url(#clip740)\" d=\"M 0 0 M1276.45 1491.96 Q1272.83 1491.96 1271.01 1495.52 Q1269.2 1499.07 1269.2 1506.19 Q1269.2 1513.3 1271.01 1516.87 Q1272.83 1520.41 1276.45 1520.41 Q1280.08 1520.41 1281.89 1516.87 Q1283.71 1513.3 1283.71 1506.19 Q1283.71 1499.07 1281.89 1495.52 Q1280.08 1491.96 1276.45 1491.96 M1276.45 1488.25 Q1282.26 1488.25 1285.31 1492.86 Q1288.39 1497.44 1288.39 1506.19 Q1288.39 1514.92 1285.31 1519.53 Q1282.26 1524.11 1276.45 1524.11 Q1270.64 1524.11 1267.56 1519.53 Q1264.5 1514.92 1264.5 1506.19 Q1264.5 1497.44 1267.56 1492.86 Q1270.64 1488.25 1276.45 1488.25 Z\" fill=\"#000000\" fill-rule=\"evenodd\" fill-opacity=\"1\" /><path clip-path=\"url(#clip740)\" d=\"M 0 0 M1461.47 1504.3 Q1458.32 1504.3 1456.47 1506.45 Q1454.64 1508.6 1454.64 1512.35 Q1454.64 1516.08 1456.47 1518.25 Q1458.32 1520.41 1461.47 1520.41 Q1464.61 1520.41 1466.44 1518.25 Q1468.29 1516.08 1468.29 1512.35 Q1468.29 1508.6 1466.44 1506.45 Q1464.61 1504.3 1461.47 1504.3 M1470.75 1489.64 L1470.75 1493.9 Q1468.99 1493.07 1467.18 1492.63 Q1465.4 1492.19 1463.64 1492.19 Q1459.01 1492.19 1456.56 1495.32 Q1454.13 1498.44 1453.78 1504.76 Q1455.15 1502.75 1457.21 1501.68 Q1459.27 1500.59 1461.74 1500.59 Q1466.95 1500.59 1469.96 1503.76 Q1472.99 1506.91 1472.99 1512.35 Q1472.99 1517.68 1469.85 1520.89 Q1466.7 1524.11 1461.47 1524.11 Q1455.47 1524.11 1452.3 1519.53 Q1449.13 1514.92 1449.13 1506.19 Q1449.13 1498 1453.02 1493.14 Q1456.91 1488.25 1463.46 1488.25 Q1465.22 1488.25 1467 1488.6 Q1468.8 1488.95 1470.75 1489.64 Z\" fill=\"#000000\" fill-rule=\"evenodd\" fill-opacity=\"1\" /><path clip-path=\"url(#clip740)\" d=\"M 0 0 M1488.06 1491.96 Q1484.45 1491.96 1482.62 1495.52 Q1480.82 1499.07 1480.82 1506.19 Q1480.82 1513.3 1482.62 1516.87 Q1484.45 1520.41 1488.06 1520.41 Q1491.7 1520.41 1493.5 1516.87 Q1495.33 1513.3 1495.33 1506.19 Q1495.33 1499.07 1493.5 1495.52 Q1491.7 1491.96 1488.06 1491.96 M1488.06 1488.25 Q1493.87 1488.25 1496.93 1492.86 Q1500.01 1497.44 1500.01 1506.19 Q1500.01 1514.92 1496.93 1519.53 Q1493.87 1524.11 1488.06 1524.11 Q1482.25 1524.11 1479.17 1519.53 Q1476.12 1514.92 1476.12 1506.19 Q1476.12 1497.44 1479.17 1492.86 Q1482.25 1488.25 1488.06 1488.25 Z\" fill=\"#000000\" fill-rule=\"evenodd\" fill-opacity=\"1\" /><polyline clip-path=\"url(#clip742)\" style=\"stroke:#000000; stroke-width:2; stroke-opacity:0.1; fill:none\" points=\"\n",
       "  131.191,1469.17 1552.76,1469.17 \n",
       "  \"/>\n",
       "<polyline clip-path=\"url(#clip742)\" style=\"stroke:#000000; stroke-width:2; stroke-opacity:0.1; fill:none\" points=\"\n",
       "  131.191,1184.78 1552.76,1184.78 \n",
       "  \"/>\n",
       "<polyline clip-path=\"url(#clip742)\" style=\"stroke:#000000; stroke-width:2; stroke-opacity:0.1; fill:none\" points=\"\n",
       "  131.191,900.398 1552.76,900.398 \n",
       "  \"/>\n",
       "<polyline clip-path=\"url(#clip742)\" style=\"stroke:#000000; stroke-width:2; stroke-opacity:0.1; fill:none\" points=\"\n",
       "  131.191,616.014 1552.76,616.014 \n",
       "  \"/>\n",
       "<polyline clip-path=\"url(#clip742)\" style=\"stroke:#000000; stroke-width:2; stroke-opacity:0.1; fill:none\" points=\"\n",
       "  131.191,331.629 1552.76,331.629 \n",
       "  \"/>\n",
       "<polyline clip-path=\"url(#clip742)\" style=\"stroke:#000000; stroke-width:2; stroke-opacity:0.1; fill:none\" points=\"\n",
       "  131.191,47.2441 1552.76,47.2441 \n",
       "  \"/>\n",
       "<polyline clip-path=\"url(#clip740)\" style=\"stroke:#000000; stroke-width:4; stroke-opacity:1; fill:none\" points=\"\n",
       "  131.191,1469.17 131.191,47.2441 \n",
       "  \"/>\n",
       "<polyline clip-path=\"url(#clip740)\" style=\"stroke:#000000; stroke-width:4; stroke-opacity:1; fill:none\" points=\"\n",
       "  131.191,1469.17 148.25,1469.17 \n",
       "  \"/>\n",
       "<polyline clip-path=\"url(#clip740)\" style=\"stroke:#000000; stroke-width:4; stroke-opacity:1; fill:none\" points=\"\n",
       "  131.191,1184.78 148.25,1184.78 \n",
       "  \"/>\n",
       "<polyline clip-path=\"url(#clip740)\" style=\"stroke:#000000; stroke-width:4; stroke-opacity:1; fill:none\" points=\"\n",
       "  131.191,900.398 148.25,900.398 \n",
       "  \"/>\n",
       "<polyline clip-path=\"url(#clip740)\" style=\"stroke:#000000; stroke-width:4; stroke-opacity:1; fill:none\" points=\"\n",
       "  131.191,616.014 148.25,616.014 \n",
       "  \"/>\n",
       "<polyline clip-path=\"url(#clip740)\" style=\"stroke:#000000; stroke-width:4; stroke-opacity:1; fill:none\" points=\"\n",
       "  131.191,331.629 148.25,331.629 \n",
       "  \"/>\n",
       "<polyline clip-path=\"url(#clip740)\" style=\"stroke:#000000; stroke-width:4; stroke-opacity:1; fill:none\" points=\"\n",
       "  131.191,47.2441 148.25,47.2441 \n",
       "  \"/>\n",
       "<path clip-path=\"url(#clip740)\" d=\"M 0 0 M95.2465 1454.97 Q91.6354 1454.97 89.8068 1458.53 Q88.0012 1462.07 88.0012 1469.2 Q88.0012 1476.31 89.8068 1479.87 Q91.6354 1483.42 95.2465 1483.42 Q98.8808 1483.42 100.686 1479.87 Q102.515 1476.31 102.515 1469.2 Q102.515 1462.07 100.686 1458.53 Q98.8808 1454.97 95.2465 1454.97 M95.2465 1451.26 Q101.057 1451.26 104.112 1455.87 Q107.191 1460.45 107.191 1469.2 Q107.191 1477.93 104.112 1482.54 Q101.057 1487.12 95.2465 1487.12 Q89.4364 1487.12 86.3577 1482.54 Q83.3022 1477.93 83.3022 1469.2 Q83.3022 1460.45 86.3577 1455.87 Q89.4364 1451.26 95.2465 1451.26 Z\" fill=\"#000000\" fill-rule=\"evenodd\" fill-opacity=\"1\" /><path clip-path=\"url(#clip740)\" d=\"M 0 0 M60.2699 1198.13 L67.9087 1198.13 L67.9087 1171.76 L59.5986 1173.43 L59.5986 1169.17 L67.8624 1167.5 L72.5383 1167.5 L72.5383 1198.13 L80.1772 1198.13 L80.1772 1202.06 L60.2699 1202.06 L60.2699 1198.13 Z\" fill=\"#000000\" fill-rule=\"evenodd\" fill-opacity=\"1\" /><path clip-path=\"url(#clip740)\" d=\"M 0 0 M95.2465 1170.58 Q91.6354 1170.58 89.8068 1174.15 Q88.0012 1177.69 88.0012 1184.82 Q88.0012 1191.92 89.8068 1195.49 Q91.6354 1199.03 95.2465 1199.03 Q98.8808 1199.03 100.686 1195.49 Q102.515 1191.92 102.515 1184.82 Q102.515 1177.69 100.686 1174.15 Q98.8808 1170.58 95.2465 1170.58 M95.2465 1166.88 Q101.057 1166.88 104.112 1171.48 Q107.191 1176.07 107.191 1184.82 Q107.191 1193.54 104.112 1198.15 Q101.057 1202.73 95.2465 1202.73 Q89.4364 1202.73 86.3577 1198.15 Q83.3022 1193.54 83.3022 1184.82 Q83.3022 1176.07 86.3577 1171.48 Q89.4364 1166.88 95.2465 1166.88 Z\" fill=\"#000000\" fill-rule=\"evenodd\" fill-opacity=\"1\" /><path clip-path=\"url(#clip740)\" d=\"M 0 0 M63.8578 913.743 L80.1772 913.743 L80.1772 917.678 L58.2328 917.678 L58.2328 913.743 Q60.8949 910.989 65.4782 906.359 Q70.0846 901.706 71.2652 900.364 Q73.5105 897.841 74.3902 896.104 Q75.2929 894.345 75.2929 892.655 Q75.2929 889.901 73.3485 888.165 Q71.4272 886.429 68.3254 886.429 Q66.1263 886.429 63.6726 887.192 Q61.2421 887.956 58.4643 889.507 L58.4643 884.785 Q61.2884 883.651 63.7421 883.072 Q66.1958 882.493 68.2328 882.493 Q73.6031 882.493 76.7976 885.179 Q79.992 887.864 79.992 892.354 Q79.992 894.484 79.1818 896.405 Q78.3948 898.303 76.2883 900.896 Q75.7096 901.567 72.6078 904.785 Q69.5059 907.979 63.8578 913.743 Z\" fill=\"#000000\" fill-rule=\"evenodd\" fill-opacity=\"1\" /><path clip-path=\"url(#clip740)\" d=\"M 0 0 M95.2465 886.197 Q91.6354 886.197 89.8068 889.762 Q88.0012 893.303 88.0012 900.433 Q88.0012 907.54 89.8068 911.104 Q91.6354 914.646 95.2465 914.646 Q98.8808 914.646 100.686 911.104 Q102.515 907.54 102.515 900.433 Q102.515 893.303 100.686 889.762 Q98.8808 886.197 95.2465 886.197 M95.2465 882.493 Q101.057 882.493 104.112 887.1 Q107.191 891.683 107.191 900.433 Q107.191 909.16 104.112 913.766 Q101.057 918.35 95.2465 918.35 Q89.4364 918.35 86.3577 913.766 Q83.3022 909.16 83.3022 900.433 Q83.3022 891.683 86.3577 887.1 Q89.4364 882.493 95.2465 882.493 Z\" fill=\"#000000\" fill-rule=\"evenodd\" fill-opacity=\"1\" /><path clip-path=\"url(#clip740)\" d=\"M 0 0 M73.0476 614.659 Q76.404 615.377 78.279 617.646 Q80.1772 619.914 80.1772 623.247 Q80.1772 628.363 76.6587 631.164 Q73.1402 633.965 66.6587 633.965 Q64.4828 633.965 62.168 633.525 Q59.8764 633.108 57.4227 632.252 L57.4227 627.738 Q59.3671 628.872 61.6819 629.451 Q63.9967 630.03 66.5198 630.03 Q70.918 630.03 73.2096 628.294 Q75.5244 626.558 75.5244 623.247 Q75.5244 620.192 73.3717 618.479 Q71.242 616.743 67.4226 616.743 L63.3949 616.743 L63.3949 612.9 L67.6078 612.9 Q71.0569 612.9 72.8855 611.534 Q74.7142 610.146 74.7142 607.553 Q74.7142 604.891 72.8161 603.479 Q70.9411 602.044 67.4226 602.044 Q65.5013 602.044 63.3023 602.46 Q61.1032 602.877 58.4643 603.757 L58.4643 599.59 Q61.1264 598.849 63.4412 598.479 Q65.7791 598.109 67.8393 598.109 Q73.1633 598.109 76.2652 600.539 Q79.367 602.947 79.367 607.067 Q79.367 609.937 77.7235 611.928 Q76.08 613.896 73.0476 614.659 Z\" fill=\"#000000\" fill-rule=\"evenodd\" fill-opacity=\"1\" /><path clip-path=\"url(#clip740)\" d=\"M 0 0 M95.2465 601.812 Q91.6354 601.812 89.8068 605.377 Q88.0012 608.919 88.0012 616.048 Q88.0012 623.155 89.8068 626.72 Q91.6354 630.261 95.2465 630.261 Q98.8808 630.261 100.686 626.72 Q102.515 623.155 102.515 616.048 Q102.515 608.919 100.686 605.377 Q98.8808 601.812 95.2465 601.812 M95.2465 598.109 Q101.057 598.109 104.112 602.715 Q107.191 607.298 107.191 616.048 Q107.191 624.775 104.112 629.382 Q101.057 633.965 95.2465 633.965 Q89.4364 633.965 86.3577 629.382 Q83.3022 624.775 83.3022 616.048 Q83.3022 607.298 86.3577 602.715 Q89.4364 598.109 95.2465 598.109 Z\" fill=\"#000000\" fill-rule=\"evenodd\" fill-opacity=\"1\" /><path clip-path=\"url(#clip740)\" d=\"M 0 0 M70.5939 318.423 L58.7884 336.872 L70.5939 336.872 L70.5939 318.423 M69.367 314.349 L75.2466 314.349 L75.2466 336.872 L80.1772 336.872 L80.1772 340.761 L75.2466 340.761 L75.2466 348.909 L70.5939 348.909 L70.5939 340.761 L54.9921 340.761 L54.9921 336.247 L69.367 314.349 Z\" fill=\"#000000\" fill-rule=\"evenodd\" fill-opacity=\"1\" /><path clip-path=\"url(#clip740)\" d=\"M 0 0 M95.2465 317.428 Q91.6354 317.428 89.8068 320.992 Q88.0012 324.534 88.0012 331.664 Q88.0012 338.77 89.8068 342.335 Q91.6354 345.876 95.2465 345.876 Q98.8808 345.876 100.686 342.335 Q102.515 338.77 102.515 331.664 Q102.515 324.534 100.686 320.992 Q98.8808 317.428 95.2465 317.428 M95.2465 313.724 Q101.057 313.724 104.112 318.33 Q107.191 322.914 107.191 331.664 Q107.191 340.39 104.112 344.997 Q101.057 349.58 95.2465 349.58 Q89.4364 349.58 86.3577 344.997 Q83.3022 340.39 83.3022 331.664 Q83.3022 322.914 86.3577 318.33 Q89.4364 313.724 95.2465 313.724 Z\" fill=\"#000000\" fill-rule=\"evenodd\" fill-opacity=\"1\" /><path clip-path=\"url(#clip740)\" d=\"M 0 0 M59.2745 29.9641 L77.6309 29.9641 L77.6309 33.8993 L63.5569 33.8993 L63.5569 42.3714 Q64.5754 42.0242 65.5939 41.8622 Q66.6124 41.677 67.6309 41.677 Q73.418 41.677 76.7976 44.8483 Q80.1772 48.0196 80.1772 53.4362 Q80.1772 59.0149 76.705 62.1167 Q73.2328 65.1954 66.9134 65.1954 Q64.7374 65.1954 62.4689 64.825 Q60.2236 64.4547 57.8162 63.7139 L57.8162 59.0149 Q59.8995 60.1491 62.1217 60.7047 Q64.3439 61.2602 66.8208 61.2602 Q70.8254 61.2602 73.1633 59.1538 Q75.5013 57.0473 75.5013 53.4362 Q75.5013 49.8251 73.1633 47.7186 Q70.8254 45.6122 66.8208 45.6122 Q64.9458 45.6122 63.0708 46.0288 Q61.2189 46.4455 59.2745 47.3251 L59.2745 29.9641 Z\" fill=\"#000000\" fill-rule=\"evenodd\" fill-opacity=\"1\" /><path clip-path=\"url(#clip740)\" d=\"M 0 0 M95.2465 33.0428 Q91.6354 33.0428 89.8068 36.6076 Q88.0012 40.1492 88.0012 47.2788 Q88.0012 54.3853 89.8068 57.9501 Q91.6354 61.4917 95.2465 61.4917 Q98.8808 61.4917 100.686 57.9501 Q102.515 54.3853 102.515 47.2788 Q102.515 40.1492 100.686 36.6076 Q98.8808 33.0428 95.2465 33.0428 M95.2465 29.3391 Q101.057 29.3391 104.112 33.9456 Q107.191 38.5289 107.191 47.2788 Q107.191 56.0056 104.112 60.6121 Q101.057 65.1954 95.2465 65.1954 Q89.4364 65.1954 86.3577 60.6121 Q83.3022 56.0056 83.3022 47.2788 Q83.3022 38.5289 86.3577 33.9456 Q89.4364 29.3391 95.2465 29.3391 Z\" fill=\"#000000\" fill-rule=\"evenodd\" fill-opacity=\"1\" /><path clip-path=\"url(#clip742)\" d=\"\n",
       "M209.38 445.383 L209.38 1469.17 L420.244 1469.17 L420.244 445.383 L209.38 445.383 L209.38 445.383  Z\n",
       "  \" fill=\"#009af9\" fill-rule=\"evenodd\" fill-opacity=\"1\"/>\n",
       "<polyline clip-path=\"url(#clip742)\" style=\"stroke:#000000; stroke-width:4; stroke-opacity:1; fill:none\" points=\"\n",
       "  209.38,445.383 209.38,1469.17 420.244,1469.17 420.244,445.383 209.38,445.383 \n",
       "  \"/>\n",
       "<path clip-path=\"url(#clip742)\" d=\"\n",
       "M420.244 416.944 L420.244 1469.17 L631.109 1469.17 L631.109 416.944 L420.244 416.944 L420.244 416.944  Z\n",
       "  \" fill=\"#009af9\" fill-rule=\"evenodd\" fill-opacity=\"1\"/>\n",
       "<polyline clip-path=\"url(#clip742)\" style=\"stroke:#000000; stroke-width:4; stroke-opacity:1; fill:none\" points=\"\n",
       "  420.244,416.944 420.244,1469.17 631.109,1469.17 631.109,416.944 420.244,416.944 \n",
       "  \"/>\n",
       "<path clip-path=\"url(#clip742)\" d=\"\n",
       "M631.109 416.944 L631.109 1469.17 L841.973 1469.17 L841.973 416.944 L631.109 416.944 L631.109 416.944  Z\n",
       "  \" fill=\"#009af9\" fill-rule=\"evenodd\" fill-opacity=\"1\"/>\n",
       "<polyline clip-path=\"url(#clip742)\" style=\"stroke:#000000; stroke-width:4; stroke-opacity:1; fill:none\" points=\"\n",
       "  631.109,416.944 631.109,1469.17 841.973,1469.17 841.973,416.944 631.109,416.944 \n",
       "  \"/>\n",
       "<path clip-path=\"url(#clip742)\" d=\"\n",
       "M841.973 587.575 L841.973 1469.17 L1052.84 1469.17 L1052.84 587.575 L841.973 587.575 L841.973 587.575  Z\n",
       "  \" fill=\"#009af9\" fill-rule=\"evenodd\" fill-opacity=\"1\"/>\n",
       "<polyline clip-path=\"url(#clip742)\" style=\"stroke:#000000; stroke-width:4; stroke-opacity:1; fill:none\" points=\"\n",
       "  841.973,587.575 841.973,1469.17 1052.84,1469.17 1052.84,587.575 841.973,587.575 \n",
       "  \"/>\n",
       "<path clip-path=\"url(#clip742)\" d=\"\n",
       "M1052.84 559.137 L1052.84 1469.17 L1263.7 1469.17 L1263.7 559.137 L1052.84 559.137 L1052.84 559.137  Z\n",
       "  \" fill=\"#009af9\" fill-rule=\"evenodd\" fill-opacity=\"1\"/>\n",
       "<polyline clip-path=\"url(#clip742)\" style=\"stroke:#000000; stroke-width:4; stroke-opacity:1; fill:none\" points=\"\n",
       "  1052.84,559.137 1052.84,1469.17 1263.7,1469.17 1263.7,559.137 1052.84,559.137 \n",
       "  \"/>\n",
       "<path clip-path=\"url(#clip742)\" d=\"\n",
       "M1263.7 701.329 L1263.7 1469.17 L1474.57 1469.17 L1474.57 701.329 L1263.7 701.329 L1263.7 701.329  Z\n",
       "  \" fill=\"#009af9\" fill-rule=\"evenodd\" fill-opacity=\"1\"/>\n",
       "<polyline clip-path=\"url(#clip742)\" style=\"stroke:#000000; stroke-width:4; stroke-opacity:1; fill:none\" points=\"\n",
       "  1263.7,701.329 1263.7,1469.17 1474.57,1469.17 1474.57,701.329 1263.7,701.329 \n",
       "  \"/>\n",
       "<path clip-path=\"url(#clip740)\" d=\"\n",
       "M1296.4 215.602 L1505.37 215.602 L1505.37 94.6416 L1296.4 94.6416  Z\n",
       "  \" fill=\"#ffffff\" fill-rule=\"evenodd\" fill-opacity=\"1\"/>\n",
       "<polyline clip-path=\"url(#clip740)\" style=\"stroke:#000000; stroke-width:4; stroke-opacity:1; fill:none\" points=\"\n",
       "  1296.4,215.602 1505.37,215.602 1505.37,94.6416 1296.4,94.6416 1296.4,215.602 \n",
       "  \"/>\n",
       "<path clip-path=\"url(#clip740)\" d=\"\n",
       "M1312.2 179.314 L1406.97 179.314 L1406.97 130.93 L1312.2 130.93 L1312.2 179.314  Z\n",
       "  \" fill=\"#009af9\" fill-rule=\"evenodd\" fill-opacity=\"1\"/>\n",
       "<polyline clip-path=\"url(#clip740)\" style=\"stroke:#000000; stroke-width:4; stroke-opacity:1; fill:none\" points=\"\n",
       "  1312.2,179.314 1406.97,179.314 1406.97,130.93 1312.2,130.93 1312.2,179.314 \n",
       "  \"/>\n",
       "<path clip-path=\"url(#clip740)\" d=\"M 0 0 M1436.6 174.809 Q1434.8 179.439 1433.09 180.851 Q1431.37 182.263 1428.5 182.263 L1425.1 182.263 L1425.1 178.698 L1427.6 178.698 Q1429.36 178.698 1430.33 177.864 Q1431.3 177.031 1432.48 173.929 L1433.25 171.985 L1422.76 146.476 L1427.28 146.476 L1435.38 166.753 L1443.48 146.476 L1447.99 146.476 L1436.6 174.809 Z\" fill=\"#000000\" fill-rule=\"evenodd\" fill-opacity=\"1\" /><path clip-path=\"url(#clip740)\" d=\"M 0 0 M1453.87 168.466 L1461.51 168.466 L1461.51 142.101 L1453.2 143.767 L1453.2 139.508 L1461.47 137.842 L1466.14 137.842 L1466.14 168.466 L1473.78 168.466 L1473.78 172.402 L1453.87 172.402 L1453.87 168.466 Z\" fill=\"#000000\" fill-rule=\"evenodd\" fill-opacity=\"1\" /></svg>\n"
      ]
     },
     "execution_count": 15,
     "metadata": {},
     "output_type": "execute_result"
    }
   ],
   "source": [
    "histogram(df.age, bins = 0:10:60, size=(400,400))\n",
    "ylims!((0,50))"
   ]
  },
  {
   "cell_type": "code",
   "execution_count": 16,
   "id": "27c0c63f",
   "metadata": {},
   "outputs": [
    {
     "data": {
      "text/plain": [
       "StepRange{Int64,Int64}"
      ]
     },
     "execution_count": 16,
     "metadata": {},
     "output_type": "execute_result"
    }
   ],
   "source": [
    "typeof(1:1:10)"
   ]
  },
  {
   "cell_type": "code",
   "execution_count": null,
   "id": "e2722b43",
   "metadata": {},
   "outputs": [],
   "source": []
  }
 ],
 "metadata": {
  "kernelspec": {
   "display_name": "Julia 1.4.1",
   "language": "julia",
   "name": "julia-1.4"
  },
  "language_info": {
   "file_extension": ".jl",
   "mimetype": "application/julia",
   "name": "julia",
   "version": "1.4.1"
  }
 },
 "nbformat": 4,
 "nbformat_minor": 5
}
